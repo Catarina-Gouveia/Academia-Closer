{
 "cells": [
  {
   "cell_type": "markdown",
   "metadata": {},
   "source": [
    "<div>\n",
    "    <img src=\"img/AcademiaCloser.png\">\n",
    "</div>"
   ]
  },
  {
   "cell_type": "markdown",
   "metadata": {},
   "source": [
    "## **Métodos especiais**"
   ]
  },
  {
   "cell_type": "code",
   "execution_count": 1,
   "metadata": {},
   "outputs": [],
   "source": [
    "# Criar a classe Livro\n",
    "class Livro():\n",
    "    def __init__(self, titulo, autor, paginas):\n",
    "        print(\"Livro criado\")\n",
    "        self.titulo = titulo\n",
    "        self.autor = autor\n",
    "        self.paginas = paginas\n",
    "                \n",
    "    def __str__(self):\n",
    "        return f\"Título: {self.titulo}, autor: {self.autor}, páginas: {self.paginas}\"\n",
    "\n",
    "    def __add__(self, other):\n",
    "        return self.paginas + other.paginas\n",
    "\n",
    "    def __len__(self):\n",
    "        return self.paginas\n",
    "    \n",
    "    def len(self):\n",
    "        return print(\"Páginas do livro com método comum:\", self.paginas)"
   ]
  },
  {
   "cell_type": "code",
   "execution_count": 2,
   "metadata": {},
   "outputs": [
    {
     "name": "stdout",
     "output_type": "stream",
     "text": [
      "Livro criado\n"
     ]
    }
   ],
   "source": [
    "Lusiadas = Livro(\"Os Lusíadas\", \"Luís de Camões\", 8816)"
   ]
  },
  {
   "cell_type": "markdown",
   "metadata": {},
   "source": [
    "Métodos especiais são métodos em Python que possuem nomes especiais começando e terminando com dois underscores (__). Permitem que as classes definam comportamentos específicos para operações integradas de Python, como adição, subtração, representação de strings, etc.\n",
    "\n",
    "Métodos especiais são chamados automaticamente em Python em situações específicas, como quando objetos da classe estão envolvidos em operações integradas. Por exemplo, ao somar dois objetos, Python chama automaticamente o método `__add__` do primeiro objeto, passando o segundo objeto como argumento.\n",
    "\n",
    "Definir métodos especiais numa classe permite que objetos dessa classe tenham comportamentos personalizados para funções e operações pré-definidas de Python, tornando o código mais expressivo e intuitivo."
   ]
  },
  {
   "cell_type": "code",
   "execution_count": 3,
   "metadata": {},
   "outputs": [
    {
     "name": "stdout",
     "output_type": "stream",
     "text": [
      "Título: Os Lusíadas, autor: Luís de Camões, páginas: 8816\n"
     ]
    },
    {
     "data": {
      "text/plain": [
       "'Título: Os Lusíadas, autor: Luís de Camões, páginas: 8816'"
      ]
     },
     "execution_count": 3,
     "metadata": {},
     "output_type": "execute_result"
    }
   ],
   "source": [
    "# Ambos os métodos seguintes usam o método especial __str__ (representação de string)\n",
    "print(Lusiadas)\n",
    "str(Lusiadas)"
   ]
  },
  {
   "cell_type": "markdown",
   "metadata": {},
   "source": [
    "Ambos os exemplos utilizam o método especial `__str__`:\n",
    "\n",
    "1. `print(Lusiadas)`: Quando se utiliza `print(Lusiadas)`, Python chama automaticamente o método `__str__` do objeto `Lusiadas` para obter uma representação em formato de string do objeto. Isto permite imprimir informações significativas sobre o objeto.\n",
    "\n",
    "2. `str(Lusiadas)`: Aqui, chamamos explicitamente o método `__str__` do objeto `Lusiadas` utilizando a função `str()`.\n",
    "\n",
    "Em ambos os casos, o método `__str__` é responsável por fornecer uma representação legível do objeto em formato de string. Isso é útil para *debug*, visualização e comunicação de informações sobre o objeto em diferentes contextos no código Python."
   ]
  },
  {
   "cell_type": "code",
   "execution_count": 4,
   "metadata": {},
   "outputs": [
    {
     "name": "stdout",
     "output_type": "stream",
     "text": [
      "8816\n"
     ]
    }
   ],
   "source": [
    "# Chamar o método especial __len__\n",
    "print(len(Lusiadas))"
   ]
  },
  {
   "cell_type": "markdown",
   "metadata": {},
   "source": [
    "Nota: Repare que não está a chamar `Lusiadas.__len__()` como se faria para chamar um método \"normal\"."
   ]
  },
  {
   "cell_type": "markdown",
   "metadata": {},
   "source": [
    "Em Python, a função `len()` é usada para obter o comprimento de um objeto, como uma lista, uma string ou, como neste caso, um objeto adaptado às nossas necessidades. Quando se utiliza `len(Lusiadas)`, Python chama automaticamente o método `__len__` do objeto `Lusiadas` para obter o seu comprimento.\n",
    "\n",
    "Não é preciso chamar `Lusiadas.__len__()` explicitamente porque a linguagem Python foi desenvolvida para permitir o uso destes métodos especiais automaticamente quando se usam as funções ou operadores pré-definidos de Python. O que torna o código mais limpo e expressivo.\n",
    "\n",
    "Portanto, `len(Lusiadas)` retorna o comprimento do objeto `Lusiadas`, com base na implementação do método `__len__` definido na classe `Livro`."
   ]
  },
  {
   "cell_type": "code",
   "execution_count": 5,
   "metadata": {},
   "outputs": [
    {
     "name": "stdout",
     "output_type": "stream",
     "text": [
      "Páginas do livro com método comum: 8816\n"
     ]
    }
   ],
   "source": [
    "# Agora vamos chamar o método len()\n",
    "Lusiadas.len()"
   ]
  },
  {
   "cell_type": "code",
   "execution_count": 6,
   "metadata": {},
   "outputs": [
    {
     "name": "stdout",
     "output_type": "stream",
     "text": [
      "Livro criado\n"
     ]
    }
   ],
   "source": [
    "# Vamos criar um segundo Livro\n",
    "livro_exemplo = Livro(\"Titulo Exemplo\", \"Xavier\", 1200)"
   ]
  },
  {
   "cell_type": "code",
   "execution_count": 7,
   "metadata": {},
   "outputs": [
    {
     "data": {
      "text/plain": [
       "10016"
      ]
     },
     "execution_count": 7,
     "metadata": {},
     "output_type": "execute_result"
    }
   ],
   "source": [
    "# Utilizar a operação pré-definida +\n",
    "livro_exemplo + Lusiadas"
   ]
  },
  {
   "cell_type": "markdown",
   "metadata": {},
   "source": [
    "Ao utilizar a operação pré-definida `+` entre os objetos `livro_exemplo` e `Lusiadas`, Python vai tentar adicionar esses dois objetos. No entanto, para que essa operação seja realizada, é necessário que a classe à qual esses objetos pertencem defina o método especial `__add__`.\n",
    "\n",
    "Se o método `__add__` estiver definido nas classes desses objetos, será automaticamente chamado quando se utilizar o operador `+`. Isso permite que as classes personalizem o comportamento de adição de objetos.\n",
    "\n",
    "Se a classe de um dos objetos não definir o método `__add__`, a operação resultará num erro, indicando que os tipos dos objetos não suportam adição. Caso contrário, a execução do método `__add__` definido na classe do objeto será realizada."
   ]
  },
  {
   "cell_type": "markdown",
   "metadata": {},
   "source": [
    "**Nota:** Todos os  métodos e funções especiais são herdados da classe Object"
   ]
  },
  {
   "cell_type": "code",
   "execution_count": 8,
   "metadata": {},
   "outputs": [
    {
     "data": {
      "text/plain": [
       "['__add__',\n",
       " '__class__',\n",
       " '__delattr__',\n",
       " '__dict__',\n",
       " '__dir__',\n",
       " '__doc__',\n",
       " '__eq__',\n",
       " '__format__',\n",
       " '__ge__',\n",
       " '__getattribute__',\n",
       " '__getstate__',\n",
       " '__gt__',\n",
       " '__hash__',\n",
       " '__init__',\n",
       " '__init_subclass__',\n",
       " '__le__',\n",
       " '__len__',\n",
       " '__lt__',\n",
       " '__module__',\n",
       " '__ne__',\n",
       " '__new__',\n",
       " '__reduce__',\n",
       " '__reduce_ex__',\n",
       " '__repr__',\n",
       " '__setattr__',\n",
       " '__sizeof__',\n",
       " '__str__',\n",
       " '__subclasshook__',\n",
       " '__weakref__',\n",
       " 'autor',\n",
       " 'len',\n",
       " 'paginas',\n",
       " 'titulo']"
      ]
     },
     "execution_count": 8,
     "metadata": {},
     "output_type": "execute_result"
    }
   ],
   "source": [
    "# Pode-se verificar todos os métodos especiais herdados chamando a função dir\n",
    "dir(Lusiadas)"
   ]
  },
  {
   "cell_type": "code",
   "execution_count": 9,
   "metadata": {},
   "outputs": [],
   "source": [
    "# Quando se executa o método especial delattr - remove-se o atributo especificado\n",
    "delattr(Lusiadas, \"paginas\") # Este método é herdado da classe Object - todos os métodos especiais são herdados desta classe \"Object\"."
   ]
  },
  {
   "cell_type": "code",
   "execution_count": 10,
   "metadata": {},
   "outputs": [
    {
     "data": {
      "text/plain": [
       "['__add__',\n",
       " '__class__',\n",
       " '__delattr__',\n",
       " '__dict__',\n",
       " '__dir__',\n",
       " '__doc__',\n",
       " '__eq__',\n",
       " '__format__',\n",
       " '__ge__',\n",
       " '__getattribute__',\n",
       " '__getstate__',\n",
       " '__gt__',\n",
       " '__hash__',\n",
       " '__init__',\n",
       " '__init_subclass__',\n",
       " '__le__',\n",
       " '__len__',\n",
       " '__lt__',\n",
       " '__module__',\n",
       " '__ne__',\n",
       " '__new__',\n",
       " '__reduce__',\n",
       " '__reduce_ex__',\n",
       " '__repr__',\n",
       " '__setattr__',\n",
       " '__sizeof__',\n",
       " '__str__',\n",
       " '__subclasshook__',\n",
       " '__weakref__',\n",
       " 'autor',\n",
       " 'len',\n",
       " 'titulo']"
      ]
     },
     "execution_count": 10,
     "metadata": {},
     "output_type": "execute_result"
    }
   ],
   "source": [
    "# Vamos verificar os métodos especiais novamente\n",
    "dir(Lusiadas)"
   ]
  },
  {
   "cell_type": "markdown",
   "metadata": {},
   "source": [
    "Como se confirma, o método \"paginas\" foi removido da classe Lusiadas"
   ]
  },
  {
   "cell_type": "code",
   "execution_count": 12,
   "metadata": {},
   "outputs": [
    {
     "ename": "AttributeError",
     "evalue": "'Livro' object has no attribute 'add'",
     "output_type": "error",
     "traceback": [
      "\u001b[1;31m---------------------------------------------------------------------------\u001b[0m",
      "\u001b[1;31mAttributeError\u001b[0m                            Traceback (most recent call last)",
      "Cell \u001b[1;32mIn[12], line 1\u001b[0m\n\u001b[1;32m----> 1\u001b[0m \u001b[38;5;28;43mdelattr\u001b[39;49m\u001b[43m(\u001b[49m\u001b[43mLusiadas\u001b[49m\u001b[43m,\u001b[49m\u001b[43m \u001b[49m\u001b[38;5;124;43m\"\u001b[39;49m\u001b[38;5;124;43madd\u001b[39;49m\u001b[38;5;124;43m\"\u001b[39;49m\u001b[43m)\u001b[49m\n\u001b[0;32m      2\u001b[0m \u001b[38;5;28mdelattr\u001b[39m(livro_exemplo, \u001b[38;5;124m\"\u001b[39m\u001b[38;5;124madd\u001b[39m\u001b[38;5;124m\"\u001b[39m)\n",
      "\u001b[1;31mAttributeError\u001b[0m: 'Livro' object has no attribute 'add'"
     ]
    }
   ],
   "source": [
    "delattr(Lusiadas, \"__add__\")"
   ]
  },
  {
   "cell_type": "markdown",
   "metadata": {},
   "source": [
    "O método __add__ não pode ser removido diretamente."
   ]
  },
  {
   "cell_type": "markdown",
   "metadata": {},
   "source": []
  }
 ],
 "metadata": {
  "kernelspec": {
   "display_name": "Python 3 (ipykernel)",
   "language": "python",
   "name": "python3"
  },
  "language_info": {
   "codemirror_mode": {
    "name": "ipython",
    "version": 3
   },
   "file_extension": ".py",
   "mimetype": "text/x-python",
   "name": "python",
   "nbconvert_exporter": "python",
   "pygments_lexer": "ipython3",
   "version": "3.11.2"
  },
  "vscode": {
   "interpreter": {
    "hash": "c56527485b7c9dd36c8c8808345694ae9d0a642c0f00dfb6356f9a65494ceb50"
   }
  }
 },
 "nbformat": 4,
 "nbformat_minor": 1
}
