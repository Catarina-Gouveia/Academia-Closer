{
 "cells": [
  {
   "cell_type": "markdown",
   "metadata": {},
   "source": [
    "<div>\n",
    "    <img src=\"../img/AcademiaCloser.png\">\n",
    "</div>"
   ]
  },
  {
   "cell_type": "markdown",
   "metadata": {},
   "source": [
    "## **Herança**"
   ]
  },
  {
   "cell_type": "markdown",
   "metadata": {},
   "source": [
    "Em Programação Orientada a Objetos (POO), hierarquia refere-se à organização das classes numa estrutura de herança, na qual as classes são agrupadas em níveis ou camadas com base nas suas relações de herança. \n",
    "\n",
    "- Em hierarquia de classes, as classes podem ser organizadas numa estrutura de \"**superclasse-subclasse**\", também conhecida como \"classe pai - classe filha\". A classe pai é chamada de superclasse e a classe filha é chamada de subclasse. \n",
    "\n",
    "- As subclasses *herdam características e comportamentos da superclasse*, permitindo a reutilização de código e a extensão do comportamento das classes. Isto significa que as subclasses podem adicionar novos atributos e métodos, ou \"substituir\" os métodos existentes da superclasse."
   ]
  },
  {
   "cell_type": "code",
   "execution_count": 2,
   "metadata": {},
   "outputs": [],
   "source": [
    "# Criar a classe Animal - Superclasse\n",
    "class Animal():\n",
    "    \n",
    "    def __init__(self):\n",
    "        print(\"Animal criado.\")\n",
    "\n",
    "    def identif(self):\n",
    "        print(\"Animal.\")\n",
    "\n",
    "    def comer(self):\n",
    "        print(\"A comer.\")"
   ]
  },
  {
   "cell_type": "code",
   "execution_count": 10,
   "metadata": {},
   "outputs": [],
   "source": [
    "# Criar a classe Cão - Subclasse\n",
    "class Cao(Animal):\n",
    "    \n",
    "    def __init__(self):\n",
    "        super().__init__() # Isto vai fazer com que o método __init__ da superclasse seja herdado.\n",
    "        \n",
    "        # Adicionar um print ao inicializar\n",
    "        print(\"Objeto Cao criado.\")\n",
    "\n",
    "    # Substituir o método \"identif\" da superclasse, aqui imprimirá \"filhote\" em vez de \"Animal\"\n",
    "    def identif(self):\n",
    "        print(\"Filhote\")\n",
    "\n",
    "    # Novo método adicionado, exclusivo da subclasse Cao \n",
    "    def latir(self):\n",
    "        print(\"Au Au!\")"
   ]
  },
  {
   "cell_type": "markdown",
   "metadata": {},
   "source": [
    "**Nota:** \n",
    "\n",
    "Para além dos métodos definidos na classe Cao, esta vai ter também o método \"comer\", que vai ser herdado da superclasse Animal, pois é definido lá."
   ]
  },
  {
   "cell_type": "code",
   "execution_count": 11,
   "metadata": {},
   "outputs": [
    {
     "name": "stdout",
     "output_type": "stream",
     "text": [
      "Animal criado\n",
      "Objeto Cao criado.\n"
     ]
    }
   ],
   "source": [
    "# Criar um objeto da subclasse Cao (instanciar a classe)\n",
    "Rex = Cao()"
   ]
  },
  {
   "cell_type": "markdown",
   "metadata": {},
   "source": [
    "**Explicação:** como a subclasse Cao herda o método `__init__` da classe-pai (superclasse), através da utilização de `super.__init__()` isto vai executar primeiro o método da classe-pai e depois o método da classe-filha (subclasse)"
   ]
  },
  {
   "cell_type": "code",
   "execution_count": 12,
   "metadata": {},
   "outputs": [
    {
     "name": "stdout",
     "output_type": "stream",
     "text": [
      "Filhote\n"
     ]
    }
   ],
   "source": [
    "# Executar o método \"identif\" da classe Cao (subclass)\n",
    "Rex.identif()"
   ]
  },
  {
   "cell_type": "code",
   "execution_count": 13,
   "metadata": {},
   "outputs": [
    {
     "name": "stdout",
     "output_type": "stream",
     "text": [
      "Comendo\n"
     ]
    }
   ],
   "source": [
    "# Executar o método comer, herdado da superclasse Animal\n",
    "Rex.comer()"
   ]
  },
  {
   "cell_type": "code",
   "execution_count": 14,
   "metadata": {},
   "outputs": [
    {
     "name": "stdout",
     "output_type": "stream",
     "text": [
      "Au Au!\n"
     ]
    }
   ],
   "source": [
    "# Executar o método \"latir\" da classe Cao (subclass)\n",
    "Rex.latir()"
   ]
  },
  {
   "cell_type": "code",
   "execution_count": null,
   "metadata": {},
   "outputs": [],
   "source": []
  }
 ],
 "metadata": {
  "kernelspec": {
   "display_name": "Python 3 (ipykernel)",
   "language": "python",
   "name": "python3"
  },
  "language_info": {
   "codemirror_mode": {
    "name": "ipython",
    "version": 3
   },
   "file_extension": ".py",
   "mimetype": "text/x-python",
   "name": "python",
   "nbconvert_exporter": "python",
   "pygments_lexer": "ipython3",
   "version": "3.11.2"
  },
  "vscode": {
   "interpreter": {
    "hash": "c56527485b7c9dd36c8c8808345694ae9d0a642c0f00dfb6356f9a65494ceb50"
   }
  }
 },
 "nbformat": 4,
 "nbformat_minor": 1
}
