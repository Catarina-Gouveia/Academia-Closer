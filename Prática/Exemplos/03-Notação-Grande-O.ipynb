{
 "cells": [
  {
   "cell_type": "markdown",
   "metadata": {},
   "source": [
    "<div>\n",
    "    <img src=\"img/AcademiaCloser.png\">\n",
    "</div>"
   ]
  },
  {
   "cell_type": "markdown",
   "metadata": {},
   "source": [
    "## **Notação Grande-O (Big-O)**"
   ]
  },
  {
   "cell_type": "markdown",
   "metadata": {},
   "source": [
    "A notação Big-O é uma forma de descrever o comportamento assintótico de uma função, representando o limite superior do crescimento de uma função à medida que o tamanho de entrada (*input*) aumenta. É comumente usada na análise de algoritmos para descrever o seu desempenho em termos de eficiência e complexidade. É representada como *O(f(n))*, onde *f(n)* é uma função que descreve o comportamento do algoritmo em relação ao tamanho da entrada *n*. \n",
    "\n",
    "\n",
    "Em termos simples, a notação Big-O diz quanto tempo ou espaço um algoritmo precisa para processar uma entrada de tamanho específico.\n",
    "\n",
    "\n",
    "A notação Big-O permite-nos comparar a eficiência de diferentes algoritmos e entender como o tempo de execução ou o espaço necessário pelo algoritmo cresce à medida que o tamanho da entrada (*input*) aumenta. Quanto menor o grau de complexidade (ou seja, quanto menor o valor de *f(n)* na notação Big-O), mais eficiente é o algoritmo."
   ]
  },
  {
   "cell_type": "markdown",
   "metadata": {},
   "source": [
    "Exemplos:\n",
    "\n",
    "***O(1)* - Complexidade Constante**\n",
    "<br><br>\n",
    "Um algoritmo com complexidade *O(1)* tem tempo de execução constante, independentemente do tamanho da entrada."
   ]
  },
  {
   "cell_type": "code",
   "execution_count": 5,
   "metadata": {},
   "outputs": [],
   "source": [
    "def primeiro_elemento(lista):\n",
    "    return lista[0]\n",
    "\n",
    "# No exemplo acima, não importa o tamanho da lista,\n",
    "# a função vai sempre retornar o primeiro elemento em tempo constante."
   ]
  },
  {
   "cell_type": "markdown",
   "metadata": {},
   "source": [
    "***O(n)* - Complexidade Linear**\n",
    "<br><br>\n",
    "Um algoritmo com complexidade *O(n)* tem tempo de execução proporcional ao tamanho da entrada (input)."
   ]
  },
  {
   "cell_type": "code",
   "execution_count": 6,
   "metadata": {},
   "outputs": [],
   "source": [
    "def buscar_elemento(lista, elemento):\n",
    "    for item in lista:\n",
    "        if item == elemento:\n",
    "            return True\n",
    "    return False\n",
    "\n",
    "# Neste exemplo, o tempo de execução aumenta linearmente com o tamanho da lista."
   ]
  },
  {
   "cell_type": "markdown",
   "metadata": {},
   "source": [
    "***O(n^2)* - Complexidade Quadrática**\n",
    "<br><br>\n",
    "Um algoritmo com complexidade *O(n^2)* tem tempo de execução proporcional ao quadrado do tamanho da entrada."
   ]
  },
  {
   "cell_type": "code",
   "execution_count": 7,
   "metadata": {},
   "outputs": [],
   "source": [
    "def ordenar_lista(lista):\n",
    "    n = len(lista)\n",
    "    for i in range(n):\n",
    "        for j in range(n):\n",
    "            if lista[i] < lista[j]:\n",
    "                lista[i], lista[j] = lista[j], lista[i]\n",
    "\n",
    "# Neste exemplo, o tempo de execução aumenta quadráticamente com o tamanho da lista."
   ]
  },
  {
   "cell_type": "markdown",
   "metadata": {},
   "source": [
    "***O(log n)* - Complexidade Logarítmica**\n",
    "<br><br>\n",
    "Um algoritmo com complexidade *O(log n)* reduz pela metade o tamanho do problema a cada etapa."
   ]
  },
  {
   "cell_type": "code",
   "execution_count": 8,
   "metadata": {},
   "outputs": [],
   "source": [
    "def busca_binaria(lista, elemento):\n",
    "    baixo, alto = 0, len(lista) - 1\n",
    "    while baixo <= alto:\n",
    "        meio = (baixo + alto) // 2\n",
    "        if lista[meio] == elemento:\n",
    "            return meio\n",
    "        elif lista[meio] < elemento:\n",
    "            baixo = meio + 1\n",
    "        else:\n",
    "            alto = meio - 1\n",
    "    return -1\n",
    "\n",
    "# Neste exemplo, a lista é dividida pela metade a cada iteração da busca binária."
   ]
  },
  {
   "cell_type": "markdown",
   "metadata": {},
   "source": [
    "**Ilustração das complexidades mais comuns em Notação *Big-O*:**"
   ]
  },
  {
   "cell_type": "markdown",
   "metadata": {},
   "source": [
    "<img src=\"img/NotacaoBigO.png\" width=\"800\">"
   ]
  },
  {
   "cell_type": "markdown",
   "metadata": {},
   "source": [
    "Fonte da imagem: https://answall.com/q/56836/definition-of-the-big-o-notation/"
   ]
  },
  {
   "cell_type": "markdown",
   "metadata": {},
   "source": []
  }
 ],
 "metadata": {
  "kernelspec": {
   "display_name": "Python 3 (ipykernel)",
   "language": "python",
   "name": "python3"
  },
  "language_info": {
   "codemirror_mode": {
    "name": "ipython",
    "version": 3
   },
   "file_extension": ".py",
   "mimetype": "text/x-python",
   "name": "python",
   "nbconvert_exporter": "python",
   "pygments_lexer": "ipython3",
   "version": "3.11.2"
  },
  "vscode": {
   "interpreter": {
    "hash": "ed1d5606f5aeedd55256c3249db3ec25384f334262ac609a48c72a22acaa424d"
   }
  }
 },
 "nbformat": 4,
 "nbformat_minor": 1
}
