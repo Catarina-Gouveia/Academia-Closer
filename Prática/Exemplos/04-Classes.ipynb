{
 "cells": [
  {
   "cell_type": "markdown",
   "metadata": {},
   "source": [
    "<div>\n",
    "    <img src=\"../img/AcademiaCloser.png\">\n",
    "</div>"
   ]
  },
  {
   "cell_type": "markdown",
   "metadata": {},
   "source": [
    "## Classes"
   ]
  },
  {
   "cell_type": "markdown",
   "metadata": {},
   "source": [
    "- Uma classe é um modelo para criar objetos.\n",
    "- Define a estrutura e o comportamento que os objetos na classe terão.\n",
    "\n",
    "Para se criar uma classe, utiliza-se a palavra reservada `class`. O nome da classe deve seguir a mesma convenção usada para criar nomes de funções e variáveis, no entanto, por convenção começa sempre com letra maiúscula (convenção também conhecida por Caso Pascal ou Pascal Case, em inglês)."
   ]
  },
  {
   "cell_type": "code",
   "execution_count": 9,
   "metadata": {},
   "outputs": [],
   "source": [
    "# Criar uma classe chamada Livro\n",
    "class Livro:\n",
    "    \"\"\"\n",
    "    Classe que representa um livro.\n",
    "    \"\"\"\n",
    "\n",
    "    def __init__(self):\n",
    "        \"\"\"\n",
    "        Método de inicialização para cada objeto criado a partir desta classe.\n",
    "        O parâmetro 'self' é uma referência a cada atributo do objeto criado. Conecta cada objeto à classe.\n",
    "        \"\"\"\n",
    "        # Atributos de cada objeto criado a partir desta classe.\n",
    "        # O 'self' indica que esses são atributos do objeto.\n",
    "        self.titulo = 'O monge que vendeu o seu Ferrari'\n",
    "        self.id = 9988777\n",
    "        print(\"Construtor chamado para criar um objeto desta classe\")\n",
    "\n",
    "    def imprimir_informacoes(self):\n",
    "        \"\"\"\n",
    "        Método que imprime informações sobre o livro.\n",
    "        \"\"\"\n",
    "        print(f\"O livro criado é '{self.titulo}' com ID {self.id}\")"
   ]
  },
  {
   "cell_type": "markdown",
   "metadata": {},
   "source": [
    "Nesta classe, temos:\n",
    "\n",
    "O método `__init__`, que é chamado quando um objeto da classe é criado. Este, inicializa os atributos do objeto.<br><br>\n",
    "Os atributos `titulo` e `id`, que são específicos para cada objeto criado a partir da classe.\n",
    "O método imprimir_informacoes, que imprime detalhes sobre o livro."
   ]
  },
  {
   "cell_type": "code",
   "execution_count": 11,
   "metadata": {},
   "outputs": [
    {
     "name": "stdout",
     "output_type": "stream",
     "text": [
      "Construtor chamado para criar um objeto desta classe\n"
     ]
    }
   ],
   "source": [
    "# Criar uma instância da classe Livro\n",
    "livro_exemplo = Livro()"
   ]
  },
  {
   "cell_type": "code",
   "execution_count": 12,
   "metadata": {},
   "outputs": [
    {
     "data": {
      "text/plain": [
       "__main__.Livro"
      ]
     },
     "execution_count": 12,
     "metadata": {},
     "output_type": "execute_result"
    }
   ],
   "source": [
    "# Verificar o tipo de objecto \"livro_exemplo\" criado a partir da classe Livro\n",
    "type(livro_exemplo)"
   ]
  },
  {
   "cell_type": "code",
   "execution_count": 13,
   "metadata": {},
   "outputs": [
    {
     "data": {
      "text/plain": [
       "'O monge que vendeu o seu Ferrari'"
      ]
     },
     "execution_count": 13,
     "metadata": {},
     "output_type": "execute_result"
    }
   ],
   "source": [
    "# Atributo \"titulo\" do objeto \"livro_exemplo\"\n",
    "livro_exemplo.titulo"
   ]
  },
  {
   "cell_type": "code",
   "execution_count": 14,
   "metadata": {},
   "outputs": [
    {
     "name": "stdout",
     "output_type": "stream",
     "text": [
      "O livro criado é 'O monge que vendeu o seu Ferrari' com ID 9988777\n"
     ]
    }
   ],
   "source": [
    "# Aceder ao método \"imprimir_informacoes\" que imprime detalhes sobre o objeto \"livro_exemplo\"\n",
    "livro_exemplo.imprimir_informacoes()"
   ]
  },
  {
   "cell_type": "code",
   "execution_count": 22,
   "metadata": {},
   "outputs": [],
   "source": [
    "# Criando a classe Book com parâmetros no método construtor\n",
    "class Livro:\n",
    "    \"\"\"\n",
    "    Classe que representa um livro.\n",
    "\n",
    "    Args:\n",
    "        titulo (str): O título do livro.\n",
    "        id (int): O identificador único do livro.\n",
    "    \"\"\"\n",
    "\n",
    "    def __init__(self, titulo, id):\n",
    "        \"\"\"\n",
    "        Construtor para criar um objeto da classe Livro.\n",
    "\n",
    "        Args:\n",
    "            titulo (str): O título do livro.\n",
    "            id (int): O identificador único do livro.\n",
    "        \"\"\"\n",
    "        self.titulo = titulo\n",
    "        self.id = id\n",
    "        print(\"Construtor chamado para criar um objeto desta classe\")\n",
    "\n",
    "    def imprimir_informacoes(self):\n",
    "        \"\"\"\n",
    "        Imprime informações sobre o livro.\n",
    "        \"\"\"\n",
    "        print(f\"O livro criado é '{self.titulo}' com ID {self.id}\")"
   ]
  },
  {
   "cell_type": "code",
   "execution_count": 24,
   "metadata": {},
   "outputs": [
    {
     "name": "stdout",
     "output_type": "stream",
     "text": [
      "Construtor chamado para criar um objeto desta classe\n"
     ]
    }
   ],
   "source": [
    "# Criando o objeto \"Livro1\", que é uma instância da classe Livro\n",
    "Livro1 = Livro(\"A Rapariga que roubou livros\", 77886611)"
   ]
  },
  {
   "cell_type": "code",
   "execution_count": 25,
   "metadata": {},
   "outputs": [
    {
     "data": {
      "text/plain": [
       "'A Rapariga que roubou livros'"
      ]
     },
     "execution_count": 25,
     "metadata": {},
     "output_type": "execute_result"
    }
   ],
   "source": [
    "Livro1.titulo"
   ]
  },
  {
   "cell_type": "code",
   "execution_count": 26,
   "metadata": {},
   "outputs": [
    {
     "name": "stdout",
     "output_type": "stream",
     "text": [
      "O livro criado é 'A Rapariga que roubou livros' com ID 77886611\n"
     ]
    }
   ],
   "source": [
    "# Aceder ao método da classe Livro1\n",
    "Livro1.imprimir_informacoes()"
   ]
  },
  {
   "cell_type": "code",
   "execution_count": 27,
   "metadata": {},
   "outputs": [],
   "source": [
    "# Criar a classe Cão\n",
    "class Cao():\n",
    "    def __init__(self, raca):\n",
    "        self.raca = raca\n",
    "        print(\"Construtor chamado para criar um objeto desta classe\")"
   ]
  },
  {
   "cell_type": "code",
   "execution_count": 13,
   "metadata": {},
   "outputs": [
    {
     "name": "stdout",
     "output_type": "stream",
     "text": [
      "Constructor called to create an object of this class\n"
     ]
    }
   ],
   "source": [
    "# Criar objeto da classe Cao\n",
    "Rex = Cao(breed='Labrador')"
   ]
  },
  {
   "cell_type": "code",
   "execution_count": 29,
   "metadata": {},
   "outputs": [
    {
     "name": "stdout",
     "output_type": "stream",
     "text": [
      "Construtor chamado para criar um objeto desta classe\n"
     ]
    }
   ],
   "source": [
    "# Criar um objeto da classe Cao\n",
    "Golias = Cao(raca='Husky')"
   ]
  },
  {
   "cell_type": "code",
   "execution_count": 15,
   "metadata": {},
   "outputs": [
    {
     "data": {
      "text/plain": [
       "'Labrador'"
      ]
     },
     "execution_count": 15,
     "metadata": {},
     "output_type": "execute_result"
    }
   ],
   "source": [
    "# Atributo da classe Cao, associado ao objeto criado\n",
    "Rex.raca"
   ]
  },
  {
   "cell_type": "code",
   "execution_count": 30,
   "metadata": {},
   "outputs": [
    {
     "data": {
      "text/plain": [
       "'Husky'"
      ]
     },
     "execution_count": 30,
     "metadata": {},
     "output_type": "execute_result"
    }
   ],
   "source": [
    "# Atributo da classe Cao, associado ao objeto criado\n",
    "Golias.raca"
   ]
  }
 ],
 "metadata": {
  "kernelspec": {
   "display_name": "Python 3 (ipykernel)",
   "language": "python",
   "name": "python3"
  },
  "language_info": {
   "codemirror_mode": {
    "name": "ipython",
    "version": 3
   },
   "file_extension": ".py",
   "mimetype": "text/x-python",
   "name": "python",
   "nbconvert_exporter": "python",
   "pygments_lexer": "ipython3",
   "version": "3.11.2"
  },
  "vscode": {
   "interpreter": {
    "hash": "ed1d5606f5aeedd55256c3249db3ec25384f334262ac609a48c72a22acaa424d"
   }
  }
 },
 "nbformat": 4,
 "nbformat_minor": 1
}
