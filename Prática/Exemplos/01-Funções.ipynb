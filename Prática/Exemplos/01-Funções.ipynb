{
 "cells": [
  {
   "cell_type": "markdown",
   "metadata": {},
   "source": [
    "<div>\n",
    "    <img src=\"img/AcademiaCloser.png\">\n",
    "</div>"
   ]
  },
  {
   "cell_type": "markdown",
   "metadata": {},
   "source": [
    "## **Funções**"
   ]
  },
  {
   "cell_type": "markdown",
   "metadata": {},
   "source": [
    "- Blocos de código reutilizáveis que executam uma tarefa específica. \n",
    "Ajudam a organizar o código, tornando-o mais modular e fácil de entender."
   ]
  },
  {
   "cell_type": "markdown",
   "metadata": {},
   "source": [
    "### **Funções integradas (built-in)**\n",
    "\n",
    "Funções integradas ou *built-in* em Python são funções que estão disponíveis como parte do próprio código base de Python e não exigem a importação de nenhum módulo adicional. Estas funções são muito utilizadas e fornecem funcionalidades essenciais para manipulação de dados, operações matemáticas, iteração, manipulação de strings, etc."
   ]
  },
  {
   "cell_type": "markdown",
   "metadata": {},
   "source": [
    "Exemplos:"
   ]
  },
  {
   "cell_type": "code",
   "execution_count": 5,
   "metadata": {},
   "outputs": [
    {
     "name": "stdout",
     "output_type": "stream",
     "text": [
      "\n",
      "Olá, mundo!\n"
     ]
    }
   ],
   "source": [
    "print() # Esta função é usada para imprimir valores na saída padrão (output). \n",
    "print('Olá, mundo!')"
   ]
  },
  {
   "cell_type": "markdown",
   "metadata": {},
   "source": [
    "`len()` - Esta função retorna o comprimento (número de itens) de um objeto, como uma lista, uma string, um dicionário, etc."
   ]
  },
  {
   "cell_type": "code",
   "execution_count": 25,
   "metadata": {},
   "outputs": [
    {
     "name": "stdout",
     "output_type": "stream",
     "text": [
      "5\n"
     ]
    }
   ],
   "source": [
    "lista = [1, 2, 3, 4, 5]\n",
    "print(len(lista))"
   ]
  },
  {
   "cell_type": "markdown",
   "metadata": {},
   "source": [
    "`sum()` Esta função retorna a soma de todos os elementos de um iterável (como uma lista, tuplo, etc.)."
   ]
  },
  {
   "cell_type": "code",
   "execution_count": 7,
   "metadata": {},
   "outputs": [
    {
     "name": "stdout",
     "output_type": "stream",
     "text": [
      "15\n"
     ]
    }
   ],
   "source": [
    "lista = [1, 2, 3, 4, 5]\n",
    "print(sum(lista))  # Saída: 15"
   ]
  },
  {
   "cell_type": "markdown",
   "metadata": {},
   "source": [
    "`max()` Retorna o valor máximo em um iterável\n",
    "\n",
    "\n",
    "`min()` Retorna o valor mínimo em um iterável"
   ]
  },
  {
   "cell_type": "code",
   "execution_count": 8,
   "metadata": {},
   "outputs": [
    {
     "name": "stdout",
     "output_type": "stream",
     "text": [
      "20\n",
      "5\n"
     ]
    }
   ],
   "source": [
    "lista = [10, 20, 5, 15]\n",
    "print(max(lista))  # Saída: 20\n",
    "print(min(lista))  # Saída: 5"
   ]
  },
  {
   "cell_type": "markdown",
   "metadata": {},
   "source": [
    "[Documentação Python - funções built-in](https://docs.python.org/3/library/functions.html)"
   ]
  },
  {
   "cell_type": "markdown",
   "metadata": {},
   "source": [
    "### **Funções definidas pelo utilizador**"
   ]
  },
  {
   "cell_type": "code",
   "execution_count": 9,
   "metadata": {},
   "outputs": [
    {
     "name": "stdout",
     "output_type": "stream",
     "text": [
      "Olá, Mundo!\n"
     ]
    }
   ],
   "source": [
    "# Criar uma função simples que imprime \"Olá, Mundo!\" quando chamada.\n",
    "def ola_mundo():\n",
    "    print(\"Olá, Mundo!\")\n",
    "    \n",
    "ola_mundo()"
   ]
  },
  {
   "cell_type": "code",
   "execution_count": 10,
   "metadata": {},
   "outputs": [
    {
     "name": "stdout",
     "output_type": "stream",
     "text": [
      "Olá, Mundo!\n"
     ]
    }
   ],
   "source": [
    "# Criar uma função simples que imprime \"Olá, Mundo!\" quando chamada.\n",
    "def ola_mundo():\n",
    "    print(\"Olá, Mundo!\")\n",
    "    \n",
    "ola_mundo()"
   ]
  },
  {
   "cell_type": "markdown",
   "metadata": {},
   "source": [
    "Uma função tem sempre a seguinte estrutura (sintaxe):\n",
    "- `def` (definição): Palavra-chave usada para definir uma função.\n",
    "- `nome_da_funcao`: Nome da função, que deve seguir as [convenções de nomenclatura de Python](https://pythonguides.com/python-naming-conventions/#:~:text=Python%20naming%20conventions%20are%20a%20set%20of%20guidelines,is%20considered%20a%20mark%20of%20good%20coding%20practice.). E deve ser descritivo das suas funções.\n",
    "- `argumentos`: Parâmetros que a função pode receber (opcionais).\n",
    "- corpo da função: Bloco de código que realiza uma tarefa específica.\n",
    "- `return`: Palavra-chave usada para retornar um valor da função (opcional)."
   ]
  },
  {
   "cell_type": "code",
   "execution_count": 11,
   "metadata": {},
   "outputs": [],
   "source": [
    "# Estrutura de uma função:\n",
    "def nome_da_funcao(argumentos):\n",
    "    # Corpo da função\n",
    "    # Realiza uma tarefa específica\n",
    "    return resultado  # Opcional, se a função retorna um valor"
   ]
  },
  {
   "cell_type": "markdown",
   "metadata": {},
   "source": [
    "Outro exemplo de função: Suponha que queremos calcular a área e o perímetro de um retângulo com base no comprimento e largura fornecidos. Podemos criar uma função assim:"
   ]
  },
  {
   "cell_type": "code",
   "execution_count": 12,
   "metadata": {},
   "outputs": [
    {
     "name": "stdout",
     "output_type": "stream",
     "text": [
      "Área do retângulo: 15\n",
      "Perímetro do retângulo: 16\n"
     ]
    }
   ],
   "source": [
    "def retangulo_info(comprimento, largura):\n",
    "    area = comprimento * largura\n",
    "    perimetro = 2 * (comprimento + largura)\n",
    "    return area, perimetro\n",
    "\n",
    "# Exemplo de uso:\n",
    "c = 5\n",
    "l = 3\n",
    "area_retangulo, perimetro_retangulo = retangulo_info(c, l)\n",
    "print(f\"Área do retângulo: {area_retangulo}\")\n",
    "print(f\"Perímetro do retângulo: {perimetro_retangulo}\")"
   ]
  },
  {
   "cell_type": "code",
   "execution_count": 13,
   "metadata": {},
   "outputs": [
    {
     "data": {
      "text/plain": [
       "(15, 16)"
      ]
     },
     "execution_count": 13,
     "metadata": {},
     "output_type": "execute_result"
    }
   ],
   "source": [
    "retangulo_info(c, l)"
   ]
  },
  {
   "cell_type": "markdown",
   "metadata": {},
   "source": [
    "Nota: No caso de existir mais do que uma variável a ser retornada, estas vão ser retornadas como um tuplo."
   ]
  },
  {
   "cell_type": "markdown",
   "metadata": {},
   "source": [
    "Outro exemplo:"
   ]
  },
  {
   "cell_type": "code",
   "execution_count": 14,
   "metadata": {},
   "outputs": [
    {
     "name": "stdout",
     "output_type": "stream",
     "text": [
      "Média: 31.00\n",
      "Mediana: 30.00\n"
     ]
    }
   ],
   "source": [
    "def calcular_media_mediana(lista):\n",
    "    \"\"\"\n",
    "    Calcula a média e a mediana de uma lista de números.\n",
    "\n",
    "    Args:\n",
    "        lista (list): Uma lista de números.\n",
    "\n",
    "    Returns:\n",
    "        float, float: A média e a mediana da lista.\n",
    "    \"\"\"\n",
    "    # Calcula a média\n",
    "    media = sum(lista) / len(lista)\n",
    "\n",
    "    # Ordena a lista\n",
    "    lista_ordenada = sorted(lista)\n",
    "\n",
    "    # Calcula a mediana\n",
    "    tamanho = len(lista_ordenada)\n",
    "    if tamanho % 2 == 0:\n",
    "        # Se o tamanho da lista for par, a mediana é a média dos dois valores centrais\n",
    "        mediana = (lista_ordenada[tamanho // 2 - 1] + lista_ordenada[tamanho // 2]) / 2\n",
    "    else:\n",
    "        # Se o tamanho da lista for ímpar, a mediana é o valor central\n",
    "        mediana = lista_ordenada[tamanho // 2]\n",
    "\n",
    "    return media, mediana\n",
    "\n",
    "# Exemplo de uso:\n",
    "numeros = [10, 20, 30, 45, 50]\n",
    "media_resultado, mediana_resultado = calcular_media_mediana(numeros)\n",
    "print(f\"Média: {media_resultado:.2f}\")\n",
    "print(f\"Mediana: {mediana_resultado:.2f}\")"
   ]
  },
  {
   "cell_type": "markdown",
   "metadata": {},
   "source": [
    "Em Python, os argumentos de uma função podem ser classificados em diferentes tipos, cada um oferecendo flexibilidade e funcionalidades específicas ao definir e chamar funções. Abaixo estão os principais tipos de argumentos em Python:\n",
    "\n",
    "#### **1. Argumentos Posicionais**:\n",
    "\n",
    "São os argumentos passados para uma função na mesma ordem em que foram definidos.\n",
    "A ordem dos argumentos ao chamar a função é importante.\n",
    "\n",
    "Exemplo:"
   ]
  },
  {
   "cell_type": "code",
   "execution_count": 15,
   "metadata": {},
   "outputs": [
    {
     "name": "stdout",
     "output_type": "stream",
     "text": [
      "Alice Olá !\n",
      "Olá Alice !\n"
     ]
    }
   ],
   "source": [
    "def saudacao(nome, mensagem):\n",
    "    print(mensagem, nome, \"!\")\n",
    "\n",
    "saudacao(\"Olá\", \"Alice\")  # \"Olá Alice !\"\n",
    "saudacao(\"Alice\", \"Olá\")  # \"Alice Olá !\""
   ]
  },
  {
   "cell_type": "markdown",
   "metadata": {},
   "source": [
    "Nos argumentos posicionais, a ordem dos argumentos ao chamar a função é importante, uma vez que cada argumento é associado ao parâmetro correspondente na ordem em que são passados. No entanto, é possível trocar a posição dos argumentos ao chamar a função, desde que sejam fornecidos explicitamente os nomes dos parâmetros."
   ]
  },
  {
   "cell_type": "code",
   "execution_count": 16,
   "metadata": {},
   "outputs": [
    {
     "name": "stdout",
     "output_type": "stream",
     "text": [
      "Olá Alice !\n"
     ]
    }
   ],
   "source": [
    "saudacao(mensagem=\"Olá\", nome=\"Alice\")"
   ]
  },
  {
   "cell_type": "markdown",
   "metadata": {},
   "source": [
    "Isto permite que o Python associe cada argumento ao parâmetro correspondente, independentemente da ordem em que são fornecidos.\n",
    "Este tipo de argumentos é também chamado de \n",
    "\n",
    "#### **2. Argumentos Nomeados (Keyword Arguments):**\n",
    "\n",
    "São os argumentos passados para uma função com os seus nomes explicitamente indicados.\n",
    "A ordem dos argumentos não é importante, desde que os nomes correspondam aos parâmetros da função."
   ]
  },
  {
   "cell_type": "markdown",
   "metadata": {},
   "source": [
    "### **3. Argumentos Pré-definidos (Default Arguments):**\n",
    "\n",
    "São argumentos que têm um valor pré-definido na própria declaração da função.\n",
    "Se não forem passados durante a chamada da função, os valores pré-definidos serão utilizados.\n",
    "Exemplo:"
   ]
  },
  {
   "cell_type": "code",
   "execution_count": 17,
   "metadata": {},
   "outputs": [
    {
     "name": "stdout",
     "output_type": "stream",
     "text": [
      "Olá Maria !\n"
     ]
    }
   ],
   "source": [
    "def saudacao(nome, mensagem=\"Olá\"):\n",
    "    print(mensagem, nome, \"!\")\n",
    "\n",
    "saudacao(\"Maria\")  # \"Olá Maria !\""
   ]
  },
  {
   "cell_type": "code",
   "execution_count": 18,
   "metadata": {},
   "outputs": [
    {
     "name": "stdout",
     "output_type": "stream",
     "text": [
      "Adeus Maria !\n"
     ]
    }
   ],
   "source": [
    "def saudacao(nome, mensagem=\"Olá\"):\n",
    "    print(mensagem, nome, \"!\")\n",
    "\n",
    "saudacao(\"Maria\", mensagem=\"Adeus\")  # \"Olá Maria !\""
   ]
  },
  {
   "cell_type": "markdown",
   "metadata": {},
   "source": [
    "Quando uma função tem argumentos com valores pré-definidos, eles devem ser definidos depois dos argumentos que não têm valores pré-definidos (default).\n",
    "\n",
    "#### **4. Argumentos Arbitrários (args):**\n",
    "\n",
    "Permitem passar um número arbitrário de argumentos posicionais para uma função.\n",
    "\n",
    "Os argumentos são agrupados num tuplo dentro da função."
   ]
  },
  {
   "cell_type": "code",
   "execution_count": 19,
   "metadata": {},
   "outputs": [
    {
     "name": "stdout",
     "output_type": "stream",
     "text": [
      "Maçã\n",
      "Banana\n",
      "Laranja\n"
     ]
    }
   ],
   "source": [
    "def listar_itens(*args):\n",
    "    for item in args:\n",
    "        print(item)\n",
    "\n",
    "listar_itens(\"Maçã\", \"Banana\", \"Laranja\")  # \"Maçã\", \"Banana\", \"Laranja\""
   ]
  },
  {
   "cell_type": "code",
   "execution_count": 20,
   "metadata": {},
   "outputs": [
    {
     "name": "stdout",
     "output_type": "stream",
     "text": [
      "4.0\n",
      "30.0\n"
     ]
    }
   ],
   "source": [
    "def calcular_media(*numeros):\n",
    "    return sum(numeros) / len(numeros)\n",
    "\n",
    "print(calcular_media(2, 4, 6))  # 4.0\n",
    "print(calcular_media(10, 20, 30, 40, 50))  # 30.0"
   ]
  },
  {
   "cell_type": "markdown",
   "metadata": {},
   "source": [
    "#### **5. Argumentos Arbitrários Nomeados (kwargs):**\n",
    "\n",
    "Permitem passar um número arbitrário de argumentos nomeados para uma função.\n",
    "\n",
    "Os argumentos são agrupados em um dicionário dentro da função.\n",
    "\n",
    "Exemplo:"
   ]
  },
  {
   "cell_type": "code",
   "execution_count": 21,
   "metadata": {},
   "outputs": [
    {
     "name": "stdout",
     "output_type": "stream",
     "text": [
      "nome: Alice\n",
      "idade: 30\n",
      "cidade: São Paulo\n",
      "----------\n",
      "nome: Alice\n",
      "idade: 30\n",
      "cidade: São Paulo\n"
     ]
    }
   ],
   "source": [
    "def imprimir_info(**kwargs):\n",
    "    for chave, valor in kwargs.items():\n",
    "        print(f\"{chave}: {valor}\")\n",
    "\n",
    "imprimir_info(nome=\"Alice\", idade=30, cidade=\"São Paulo\")  # \"nome: Alice\", \"idade: 30\", \"cidade: São Paulo\"\n",
    "\n",
    "print(\"----------\")\n",
    "# Outro exemplo de como chamar a mesma função:\n",
    "info = {\"nome\": \"Alice\", \"idade\": 30, \"cidade\": \"São Paulo\"}\n",
    "imprimir_info(**info)"
   ]
  },
  {
   "cell_type": "markdown",
   "metadata": {},
   "source": [
    "### **Comentários e docstrings**\n",
    "\n",
    "Comentários e docstrings são recursos importantes em Python para documentar e explicar o código. \n",
    "\n",
    "#### Comentários:\n",
    "\n",
    "- **O que são:** Comentários são trechos de texto no código que são ignorados pelo interpretador Python. São usados para explicar, descrever e anotar o código para facilitar a compreensão do mesmo.\n",
    "\n",
    "- **Sintaxe:** Comentários em Python são precedidos pelo caractere `#`. Qualquer texto após o `#` numa linha é considerado um comentário e não é executado pelo interpretador.\n",
    "\n",
    "- **Para que servem:** Explicar o propósito de uma linha ou bloco de código, exemplificar o funcionamento do código, fazer anotações para os programadores que irão rever ou modificar o código no futuro, entre outros."
   ]
  },
  {
   "cell_type": "code",
   "execution_count": 22,
   "metadata": {},
   "outputs": [],
   "source": [
    "# Esta é uma linha de código que atribui o valor 5 à variável x\n",
    "x = 5"
   ]
  },
  {
   "cell_type": "markdown",
   "metadata": {},
   "source": [
    "#### Docstrings:\n",
    "\n",
    "- **O que são:** Docstrings (document strings) são strings de documentação incorporadas diretamente no código-fonte Python, usadas para documentar funções, classes, módulos e métodos.\n",
    "\n",
    "- **Sintaxe:** São colocadas entre aspas triplas (`\"\"\"`) logo após a definição de uma função, classe, módulo ou método. Podem se estender por várias linhas e geralmente incluem informações sobre o propósito da função, parâmetros, o que retorna e exemplos de uso.\n",
    "\n",
    "- **Para que servem:** Funcionam como documentação oficial do código, que pode ser acedido por outros programadores usando ferramentas de documentação como o `help()` ou IDEs (Ambiente de Desenvolvimento Integrado) que fornecem sugestões e informações sobre funções e métodos.\n",
    "\n",
    "- **Exemplo:**\n"
   ]
  },
  {
   "cell_type": "code",
   "execution_count": 23,
   "metadata": {},
   "outputs": [],
   "source": [
    "def calcular_soma(a, b):\n",
    "      \"\"\"\n",
    "      Calcula a soma de dois números.\n",
    "\n",
    "      Args:\n",
    "          a (int, float): O primeiro número.\n",
    "          b (int, float): O segundo número.\n",
    "\n",
    "      Returns:\n",
    "          int, float: A soma dos dois números.\n",
    "      \"\"\"\n",
    "      resultado = a + b\n",
    "      return resultado"
   ]
  },
  {
   "cell_type": "code",
   "execution_count": 24,
   "metadata": {},
   "outputs": [
    {
     "name": "stdout",
     "output_type": "stream",
     "text": [
      "Help on function calcular_soma in module __main__:\n",
      "\n",
      "calcular_soma(a, b)\n",
      "    Calcula a soma de dois números.\n",
      "    \n",
      "    Args:\n",
      "        a (int, float): O primeiro número.\n",
      "        b (int, float): O segundo número.\n",
      "    \n",
      "    Returns:\n",
      "        int, float: A soma dos dois números.\n",
      "\n"
     ]
    }
   ],
   "source": [
    "help(calcular_soma)"
   ]
  },
  {
   "cell_type": "code",
   "execution_count": null,
   "metadata": {},
   "outputs": [],
   "source": []
  }
 ],
 "metadata": {
  "kernelspec": {
   "display_name": "Python 3 (ipykernel)",
   "language": "python",
   "name": "python3"
  },
  "language_info": {
   "codemirror_mode": {
    "name": "ipython",
    "version": 3
   },
   "file_extension": ".py",
   "mimetype": "text/x-python",
   "name": "python",
   "nbconvert_exporter": "python",
   "pygments_lexer": "ipython3",
   "version": "3.11.2"
  },
  "vscode": {
   "interpreter": {
    "hash": "ed1d5606f5aeedd55256c3249db3ec25384f334262ac609a48c72a22acaa424d"
   }
  }
 },
 "nbformat": 4,
 "nbformat_minor": 1
}
