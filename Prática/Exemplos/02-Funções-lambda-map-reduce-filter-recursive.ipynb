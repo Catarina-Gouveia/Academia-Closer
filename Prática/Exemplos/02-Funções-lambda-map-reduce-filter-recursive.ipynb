{
 "cells": [
  {
   "cell_type": "markdown",
   "metadata": {},
   "source": [
    "<div>\n",
    "    <img src=\"../img/AcademiaCloser.png\">\n",
    "</div>"
   ]
  },
  {
   "cell_type": "markdown",
   "metadata": {},
   "source": [
    "## **Funções**"
   ]
  },
  {
   "cell_type": "markdown",
   "metadata": {},
   "source": [
    "- Blocos de código reutilizáveis que executam uma tarefa específica. \n",
    "Ajudam a organizar o código, tornando-o mais modular e fácil de entender."
   ]
  },
  {
   "cell_type": "markdown",
   "metadata": {},
   "source": [
    "### **Funções Lambda:**\n",
    "\n",
    "- Pequenas funções anónimas em Python que são definidas usando a palavra-chave `lambda`. \n",
    "- Podem ter qualquer número de argumentos, mas só podem ter uma expressão. \n",
    "- São frequentemente usadas em situações onde funções de curta duração são necessárias.\n",
    "\n",
    "Sintaxe:\n",
    "`lambda argumentos: expressao`\n",
    "\n",
    "Exemplo:"
   ]
  },
  {
   "cell_type": "code",
   "execution_count": 24,
   "metadata": {},
   "outputs": [
    {
     "name": "stdout",
     "output_type": "stream",
     "text": [
      "10\n"
     ]
    }
   ],
   "source": [
    "# Função lambda que retorna o dobro de um número\n",
    "dobro = lambda x: x * 2\n",
    "print(dobro(5))  # Saída: 10"
   ]
  },
  {
   "cell_type": "markdown",
   "metadata": {},
   "source": [
    "### **Map, Reduce e Filter:**\n",
    "\n",
    "- **Map:** A função `map()` aplica uma função a todos os itens em uma lista (ou outro iterável) e retorna um iterador com os resultados.\n",
    "\n",
    "Exemplo:"
   ]
  },
  {
   "cell_type": "code",
   "execution_count": 25,
   "metadata": {},
   "outputs": [
    {
     "name": "stdout",
     "output_type": "stream",
     "text": [
      "['PYTHON', 'É', 'INCRÍVEL']\n"
     ]
    }
   ],
   "source": [
    "# Converter todos os elementos de uma lista para maiúsculas\n",
    "lista = ['python', 'é', 'incrível']\n",
    "resultado = map(lambda x: x.upper(), lista)\n",
    "print(list(resultado))  # Saída: ['PYTHON', 'É', 'INCRÍVEL']"
   ]
  },
  {
   "cell_type": "markdown",
   "metadata": {},
   "source": [
    "- **Reduce:** A função `reduce()` aplica uma função a todos os itens em uma lista de forma cumulativa e retorna um único resultado.\n",
    "  \n",
    "Exemplo:"
   ]
  },
  {
   "cell_type": "code",
   "execution_count": null,
   "metadata": {},
   "outputs": [],
   "source": [
    "from functools import reduce\n",
    "# Calculando o produto de todos os elementos de uma lista\n",
    "lista = [1, 2, 3, 4]\n",
    "resultado = reduce(lambda x, y: x * y, lista)\n",
    "print(resultado)  # Saída: 24"
   ]
  },
  {
   "cell_type": "markdown",
   "metadata": {},
   "source": [
    "- **Filter:** A função `filter()` cria um iterador de elementos de um iterável para os quais uma função retorna `True`.\n",
    "  \n",
    "Exemplo:"
   ]
  },
  {
   "cell_type": "code",
   "execution_count": null,
   "metadata": {},
   "outputs": [],
   "source": [
    "# Filtrando números pares de uma lista\n",
    "lista = [1, 2, 3, 4, 5, 6, 7, 8, 9, 10]\n",
    "resultado = filter(lambda x: x % 2 == 0, lista)\n",
    "print(list(resultado))  # Saída: [2, 4, 6, 8, 10]"
   ]
  },
  {
   "cell_type": "markdown",
   "metadata": {},
   "source": [
    "### **Funções Recursivas:**\n",
    "Funções recursivas são funções que se chamam a si mesmas. São úteis para resolver problemas que podem ser divididos em subproblemas menores."
   ]
  },
  {
   "cell_type": "code",
   "execution_count": 26,
   "metadata": {},
   "outputs": [
    {
     "name": "stdout",
     "output_type": "stream",
     "text": [
      "120\n"
     ]
    }
   ],
   "source": [
    "# Função fatorial usando recursão\n",
    "def fatorial(n):\n",
    "    if n == 0:\n",
    "        return 1\n",
    "    else:\n",
    "        return n * fatorial(n - 1)\n",
    "\n",
    "print(fatorial(5))  # Saída: 120"
   ]
  },
  {
   "cell_type": "code",
   "execution_count": null,
   "metadata": {},
   "outputs": [],
   "source": []
  }
 ],
 "metadata": {
  "kernelspec": {
   "display_name": "Python 3 (ipykernel)",
   "language": "python",
   "name": "python3"
  },
  "language_info": {
   "codemirror_mode": {
    "name": "ipython",
    "version": 3
   },
   "file_extension": ".py",
   "mimetype": "text/x-python",
   "name": "python",
   "nbconvert_exporter": "python",
   "pygments_lexer": "ipython3",
   "version": "3.11.2"
  },
  "vscode": {
   "interpreter": {
    "hash": "ed1d5606f5aeedd55256c3249db3ec25384f334262ac609a48c72a22acaa424d"
   }
  }
 },
 "nbformat": 4,
 "nbformat_minor": 1
}
