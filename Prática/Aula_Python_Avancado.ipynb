{
 "cells": [
  {
   "cell_type": "markdown",
   "metadata": {},
   "source": [
    "<div>\n",
    "    <img src=\"Exercícios/img/AcademiaCloser.png\">\n",
    "</div>"
   ]
  },
  {
   "cell_type": "markdown",
   "metadata": {},
   "source": [
    "# **Funções**"
   ]
  },
  {
   "cell_type": "markdown",
   "metadata": {},
   "source": [
    "### Funções *built-in* (integradas)"
   ]
  },
  {
   "cell_type": "markdown",
   "metadata": {},
   "source": [
    "`len()`"
   ]
  },
  {
   "cell_type": "code",
   "execution_count": 1,
   "metadata": {},
   "outputs": [
    {
     "name": "stdout",
     "output_type": "stream",
     "text": [
      "Olá a todos!\n"
     ]
    }
   ],
   "source": [
    "print(\"Olá a todos!\")"
   ]
  },
  {
   "cell_type": "markdown",
   "metadata": {},
   "source": [
    "`input()`"
   ]
  },
  {
   "cell_type": "code",
   "execution_count": 2,
   "metadata": {},
   "outputs": [
    {
     "name": "stdout",
     "output_type": "stream",
     "text": [
      "Olá, catarina\n"
     ]
    }
   ],
   "source": [
    "nome = input(\"Introduzir nome:\")\n",
    "print(\"Olá,\", nome)"
   ]
  },
  {
   "cell_type": "markdown",
   "metadata": {},
   "source": [
    "`len()`"
   ]
  },
  {
   "cell_type": "code",
   "execution_count": 3,
   "metadata": {},
   "outputs": [
    {
     "name": "stdout",
     "output_type": "stream",
     "text": [
      "O tamanho desta string é: Olá\n",
      "\n",
      "10\n"
     ]
    }
   ],
   "source": [
    "palavra = \"Olá\"\n",
    "len(palavra)\n",
    "print(\"O tamanho desta string é:\", palavra)\n",
    "# Esta linha imprime uma linha em branco\n",
    "print()\n",
    "\n",
    "lista = [1,2,3,4,5,6,7,8,9,10]\n",
    "print(len(lista))"
   ]
  },
  {
   "cell_type": "markdown",
   "metadata": {},
   "source": [
    "`range()`"
   ]
  },
  {
   "cell_type": "code",
   "execution_count": 4,
   "metadata": {},
   "outputs": [
    {
     "name": "stdout",
     "output_type": "stream",
     "text": [
      "0\n",
      "1\n",
      "2\n",
      "3\n",
      "4\n",
      "\n",
      "1\n",
      "2\n",
      "3\n",
      "4\n",
      "\n",
      "1\n",
      "3\n",
      "\n",
      "\n"
     ]
    }
   ],
   "source": [
    "for i in range(5): # O número 5 será o limite superior do intervalo (que vai começar em 0, que é o valor \"default\")\n",
    "    print(i)\n",
    "print()\n",
    "\n",
    "for l in range(1, 5): # O limite inferior do intervalo é 1, inclusivé e o limite superior é exclusivo, 5\n",
    "    print(l)\n",
    "print()\n",
    "\n",
    "for j in range(1, 5, 2): # O limite inferior do intervalo é 1, inclusivé e o limite superior é exclusivo, 5\n",
    "    # O terceiro argumento específica o número de passos a saltar (2, neste caso).\n",
    "    print(j)\n",
    "print()\n",
    "\n",
    "for n in range(5, 1):\n",
    "    print(n)\n",
    "    print(\"Aqui\")\n",
    "print()\n",
    "# O intervalo especificado não contém números que atendam à condição inicial (5 < 1).\n",
    "# Portanto, o loop não é executado e a mensagem \"Aqui\" não é impressa.\n",
    "    \n",
    "for x in range(2, 2):\n",
    "    print(x)\n",
    "    print(\"Aqui\")\n",
    "# O intervalo especificado não contém números, pois o limite inferior e o superior são iguais (2).\n",
    "# Portanto, o loop não é executado e a mensagem \"Aqui\" não é impressa."
   ]
  },
  {
   "cell_type": "markdown",
   "metadata": {},
   "source": [
    "`type()`"
   ]
  },
  {
   "cell_type": "code",
   "execution_count": 5,
   "metadata": {},
   "outputs": [
    {
     "name": "stdout",
     "output_type": "stream",
     "text": [
      "<class 'int'>\n"
     ]
    }
   ],
   "source": [
    "x = 5\n",
    "print(type(x)) # Output: <class ‘int’>"
   ]
  },
  {
   "cell_type": "markdown",
   "metadata": {},
   "source": [
    "## Funções definidas pelo utilizador"
   ]
  },
  {
   "cell_type": "code",
   "execution_count": 6,
   "metadata": {},
   "outputs": [],
   "source": [
    "# Definir a função\n",
    "def imprimir_ola_a_todos():\n",
    "\t\"\"\"\n",
    "\tEsta função imprime \"Olá a todos!\".\n",
    "\t\"\"\"\n",
    "\tprint(\"Olá a todos!\")"
   ]
  },
  {
   "cell_type": "code",
   "execution_count": 7,
   "metadata": {},
   "outputs": [
    {
     "name": "stdout",
     "output_type": "stream",
     "text": [
      "Olá a todos!\n"
     ]
    }
   ],
   "source": [
    "# Chamar a função\n",
    "imprimir_ola_a_todos()\n",
    "# Output: \"Olá a todos!\""
   ]
  },
  {
   "cell_type": "code",
   "execution_count": 8,
   "metadata": {},
   "outputs": [
    {
     "name": "stdout",
     "output_type": "stream",
     "text": [
      "Olá a todos!\n",
      "None\n"
     ]
    }
   ],
   "source": [
    "# Nota: como a função imprimir_ola_a_todos() não tem return, se se tentar guardar o resultado numa variável esta vai ter o valor de None:\n",
    "var = imprimir_ola_a_todos()\n",
    "print(var)\n",
    "# Olá a todos é impresso na mesma porque se chamou a função - a linha print(\"Olá a todos!\") é executada sempre que se chama a função."
   ]
  },
  {
   "cell_type": "code",
   "execution_count": 9,
   "metadata": {},
   "outputs": [
    {
     "data": {
      "text/plain": [
       "<function __main__.imprimir_ola_a_todos()>"
      ]
     },
     "execution_count": 9,
     "metadata": {},
     "output_type": "execute_result"
    }
   ],
   "source": [
    "# Verificar o que acontece se se chamar a função sem ():\n",
    "imprimir_ola_a_todos"
   ]
  },
  {
   "cell_type": "markdown",
   "metadata": {},
   "source": [
    "**Explicação:** \n",
    "\n",
    "Quando se chama uma função sem os parênteses, está-se a fazer referência ao próprio objeto da função, em vez de invocar a função para executar o código. Deste modo a linha `print(\"Olá a todos!\")` não é executada."
   ]
  },
  {
   "cell_type": "code",
   "execution_count": 10,
   "metadata": {},
   "outputs": [],
   "source": [
    "def adicionar2nrs(nr1, nr2):\n",
    "\t\"\"\"\n",
    "\tEsta função adiciona dois números.\n",
    "\tArgs:\n",
    "\t\t- nr1: O primeiro número.\n",
    "\t\t- nr2: O segundo número.\n",
    "\tRetorna:\n",
    "\t\tA soma de nr1 e nr2.\n",
    "\t\"\"\"\n",
    "\tsoma = nr1 + nr2\n",
    "\treturn soma"
   ]
  },
  {
   "cell_type": "code",
   "execution_count": 11,
   "metadata": {},
   "outputs": [
    {
     "name": "stdout",
     "output_type": "stream",
     "text": [
      "12\n"
     ]
    }
   ],
   "source": [
    "soma = adicionar2nrs(2, 10)\n",
    "\n",
    "# Imprimir resultado soma:\n",
    "print(soma)"
   ]
  },
  {
   "cell_type": "markdown",
   "metadata": {},
   "source": [
    "#### Argumentos posicionais"
   ]
  },
  {
   "cell_type": "code",
   "execution_count": 12,
   "metadata": {},
   "outputs": [
    {
     "name": "stdout",
     "output_type": "stream",
     "text": [
      "Olá, o meu nome é Alice e tenho 25 anos de idade.\n",
      "Olá, o meu nome é 25 e tenho Alice anos de idade.\n"
     ]
    }
   ],
   "source": [
    "def apresentar(nome, idade):\n",
    "\t\"\"\"\n",
    "\tEsta função imprime uma apresentação.\n",
    "\t\"\"\"\n",
    "\tprint(\"Olá, o meu nome é\", nome, \"e tenho\", idade, \"anos de idade.\")\n",
    "\n",
    "apresentar(\"Alice\", 25) \n",
    "# Output: Olá, o meu nome é Alice e tenho 25 anos de idade.\n",
    "\n",
    "apresentar(25, \"Alice\") \n",
    "# Output: Olá, o meu nome é 25 e tenho Alice anos de idade."
   ]
  },
  {
   "cell_type": "markdown",
   "metadata": {},
   "source": [
    "#### Argumentos pré-definidos (*\"default\"*)"
   ]
  },
  {
   "cell_type": "code",
   "execution_count": 13,
   "metadata": {},
   "outputs": [
    {
     "name": "stdout",
     "output_type": "stream",
     "text": [
      "Olá, Convidado\n",
      "Olá, Alice\n"
     ]
    }
   ],
   "source": [
    "def cumprimentar(nome=\"Convidado\"):\n",
    "\t\"\"\"\n",
    "\tEsta função imprime um cumprimento.\n",
    "\t\"\"\"\n",
    "\tprint(\"Olá,\", nome)\n",
    "\n",
    "cumprimentar() \n",
    "# Output: Olá, Convidado\n",
    "\n",
    "cumprimentar(\"Alice\") \n",
    "# Output: Olá, Alice"
   ]
  },
  {
   "cell_type": "markdown",
   "metadata": {},
   "source": [
    "#### Argumentos com palavra-chave (*keyword*)"
   ]
  },
  {
   "cell_type": "code",
   "execution_count": 14,
   "metadata": {},
   "outputs": [
    {
     "name": "stdout",
     "output_type": "stream",
     "text": [
      "Olá Alice\n",
      "Olá Alice\n"
     ]
    }
   ],
   "source": [
    "def cumprimentar(nome, cumprimento):\n",
    "\t\"\"\"\n",
    "\tEsta função imprime um cumprimento.\n",
    "\t\"\"\"\n",
    "\tprint(cumprimento, nome)\n",
    "\n",
    "cumprimentar(cumprimento=\"Olá\", nome=\"Alice\") \n",
    "# Output: Olá Alice\n",
    "\n",
    "cumprimentar(nome=\"Alice\", cumprimento=\"Olá\") \n",
    "# Output: Olá Alice"
   ]
  },
  {
   "cell_type": "markdown",
   "metadata": {},
   "source": [
    "#### Argumentos - regras"
   ]
  },
  {
   "cell_type": "code",
   "execution_count": 15,
   "metadata": {},
   "outputs": [
    {
     "name": "stdout",
     "output_type": "stream",
     "text": [
      "24\n",
      "32\n"
     ]
    }
   ],
   "source": [
    "def multiplicar3nrs(nr1, nr2, nr3=3):\n",
    "\t\"\"\"Esta função multiplica três números (nr1, nr2, nr3).\"\"\"\n",
    "\treturn nr1 * nr2 * nr3\n",
    "\n",
    "resultado1 = multiplicar3nrs(2, 4)\n",
    "print(resultado1) \n",
    "# Output: 24\n",
    "\n",
    "resultado2 = multiplicar3nrs(2, 4, 4) \n",
    "print(resultado2)\n",
    "# Output: 32"
   ]
  },
  {
   "cell_type": "code",
   "execution_count": 16,
   "metadata": {},
   "outputs": [
    {
     "ename": "TypeError",
     "evalue": "multiplicar3nrs() missing 1 required positional argument: 'nr2'",
     "output_type": "error",
     "traceback": [
      "\u001b[1;31m---------------------------------------------------------------------------\u001b[0m",
      "\u001b[1;31mTypeError\u001b[0m                                 Traceback (most recent call last)",
      "Cell \u001b[1;32mIn[16], line 5\u001b[0m\n\u001b[0;32m      2\u001b[0m \u001b[38;5;250m    \u001b[39m\u001b[38;5;124;03m\"\"\"Multiplica três números.\"\"\"\u001b[39;00m\n\u001b[0;32m      3\u001b[0m     \u001b[38;5;28;01mreturn\u001b[39;00m nr1\u001b[38;5;241m*\u001b[39mnr2\u001b[38;5;241m*\u001b[39mnr3\n\u001b[1;32m----> 5\u001b[0m \u001b[43mmultiplicar3nrs\u001b[49m\u001b[43m(\u001b[49m\u001b[38;5;241;43m4\u001b[39;49m\u001b[43m)\u001b[49m\n",
      "\u001b[1;31mTypeError\u001b[0m: multiplicar3nrs() missing 1 required positional argument: 'nr2'"
     ]
    }
   ],
   "source": [
    "def multiplicar3nrs(nr1, nr2, nr3=3):\n",
    "    \"\"\"Multiplica três números.\"\"\"\n",
    "    return nr1*nr2*nr3\n",
    "\n",
    "multiplicar3nrs(4)"
   ]
  },
  {
   "cell_type": "markdown",
   "metadata": {},
   "source": [
    "#### **Args* – Argumentos sem palavra-chave de comprimento variável"
   ]
  },
  {
   "cell_type": "code",
   "execution_count": 17,
   "metadata": {},
   "outputs": [
    {
     "name": "stdout",
     "output_type": "stream",
     "text": [
      "120\n",
      "120\n",
      "120\n",
      "120\n"
     ]
    }
   ],
   "source": [
    "def multiplicar_nrs(*args):\n",
    "\t\"\"\"Esta função multiplica número(s) passado(s) como argumento(s).\"\"\"\n",
    "\ttotal = 1\n",
    "\tfor num in args:\n",
    "\t\ttotal *= num\n",
    "\treturn total\n",
    "\n",
    "result = multiplicar_nrs(1, 2, 3, 4, 5)\n",
    "print(result)\n",
    "# Output: 120\n",
    "\n",
    "numeros = (1,2,3,4,5)\n",
    "print(multiplicar_nrs(*numeros))\n",
    "# Output: 120\n",
    "\n",
    "numeros = [1,2,3,4,5]\n",
    "print(multiplicar_nrs(*numeros))\n",
    "# Output: 120\n",
    "\n",
    "numeros = {1,2,3,4,5}\n",
    "print(multiplicar_nrs(*numeros))\n",
    "# Output: 120"
   ]
  },
  {
   "cell_type": "markdown",
   "metadata": {},
   "source": [
    "***Kwargs* – Argumentos com palavra-chave de comprimento variável"
   ]
  },
  {
   "cell_type": "code",
   "execution_count": 18,
   "metadata": {},
   "outputs": [
    {
     "name": "stdout",
     "output_type": "stream",
     "text": [
      "primeiro_nome = Catarina\n",
      "ultimo_nome = Gouveia\n",
      "primeiro nome = Catarina\n",
      "último nome = Gouveia\n"
     ]
    }
   ],
   "source": [
    "def imprimir_info(**kwargs):\n",
    "\t\"\"\"Esta função imprime informação.\"\"\"\n",
    "\tfor chave, valor in kwargs.items():\n",
    "\t\tprint(f\"{chave} = {valor}\")\n",
    "\n",
    "imprimir_info(primeiro_nome=\"Catarina\", ultimo_nome= \"Gouveia\")\n",
    "# Output: primeiro_nome = Catarina\n",
    "# \t\t  ultimo_nome = Gouveia\n",
    "\n",
    "info = {\"primeiro nome\" : \"Catarina\", \"último nome\" : \"Gouveia\"}\n",
    "imprimir_info(**info)\n",
    "# Output: primeiro nome = Catarina\n",
    "# \t\t  último nome = Gouveia"
   ]
  },
  {
   "cell_type": "code",
   "execution_count": 19,
   "metadata": {},
   "outputs": [
    {
     "name": "stdout",
     "output_type": "stream",
     "text": [
      "Catarina\n",
      "Gouveia\n",
      "\n",
      "Eduardo\n",
      "Martins\n",
      "\n",
      "Eduardo\n",
      "None\n"
     ]
    }
   ],
   "source": [
    "# Alternativamente pode-se definir a função para receber e tratar argumentos específicos\n",
    "def imprimir_info_2(**kwargs):\n",
    "    primeiro_nome = kwargs.get('primeiro_nome')\n",
    "    ultimo_nome = kwargs.get('ultimo_nome')\n",
    "    \n",
    "    print(primeiro_nome)\n",
    "    print(ultimo_nome)\n",
    "    \n",
    "imprimir_info_2(primeiro_nome='Catarina', ultimo_nome='Gouveia')\n",
    "print()\n",
    "imprimir_info_2(primeiro_nome='Eduardo', ultimo_nome='Martins', idade=18, profissao='engenheiro')\n",
    "print()\n",
    "imprimir_info_2(primeiro_nome='Eduardo', idade=18, profissao='engenheiro')\n",
    "# Repare que neste último caso, como a variável \"ultimo_nome\" não foi passada, ultimo_nome será None\n"
   ]
  },
  {
   "cell_type": "markdown",
   "metadata": {},
   "source": [
    "### Comentários e docstrings"
   ]
  },
  {
   "cell_type": "code",
   "execution_count": 20,
   "metadata": {},
   "outputs": [],
   "source": [
    "def soma(a, b):\n",
    "    \"\"\"\n",
    "    Retorna a soma de dois números.\n",
    "\n",
    "    Esta função recebe dois números, 'a' e 'b', e retorna a soma deles.\n",
    "\n",
    "    Parâmetros:\n",
    "    a (int, float): O primeiro número a ser somado.\n",
    "    b (int, float): O segundo número a ser somado.\n",
    "\n",
    "    Retorna:\n",
    "    int ou float: A soma dos números 'a' e 'b'.\n",
    "\n",
    "    Exemplos:\n",
    "    >>> soma(2, 3)\n",
    "    5\n",
    "    >>> soma(1.5, 2.5)\n",
    "    4.0\n",
    "    \"\"\"\n",
    "    return a + b"
   ]
  },
  {
   "cell_type": "code",
   "execution_count": 21,
   "metadata": {},
   "outputs": [
    {
     "name": "stdout",
     "output_type": "stream",
     "text": [
      "5\n"
     ]
    }
   ],
   "source": [
    "print(soma(2,3))"
   ]
  },
  {
   "cell_type": "markdown",
   "metadata": {},
   "source": [
    "### Funções Lambda"
   ]
  },
  {
   "cell_type": "code",
   "execution_count": 22,
   "metadata": {},
   "outputs": [
    {
     "name": "stdout",
     "output_type": "stream",
     "text": [
      "9\n",
      "9\n"
     ]
    }
   ],
   "source": [
    "# Definir uma função\n",
    "def expoente_dois(num):\n",
    "    \"\"\"Esta função calcula o expoente de dois de um número.\"\"\"\n",
    "    return num ** 2\n",
    "\n",
    "# Substituir a função em cima por uma função lambda\n",
    "expoente_dois_lambda = lambda num: num ** 2\n",
    "print(expoente_dois(3))\n",
    "print(expoente_dois_lambda(3))"
   ]
  },
  {
   "cell_type": "code",
   "execution_count": 23,
   "metadata": {},
   "outputs": [
    {
     "name": "stdout",
     "output_type": "stream",
     "text": [
      "['morangos', 'maçãs', 'amoras', 'bananas']\n"
     ]
    }
   ],
   "source": [
    "palavras = [\"morango\", \"maçã\", \"amora\", \"banana\"] \n",
    "palavras_plural = list(map(lambda p: p + \"s\", palavras))\n",
    "print(palavras_plural)\n",
    "# Output: [\"morangos\", \"maçãs\", \"amoras\", \"bananas\"] "
   ]
  },
  {
   "cell_type": "code",
   "execution_count": 24,
   "metadata": {},
   "outputs": [
    {
     "name": "stdout",
     "output_type": "stream",
     "text": [
      "['maçã', 'amora', 'banana', 'morango']\n"
     ]
    }
   ],
   "source": [
    "palavras = [\"morango\", \"maçã\", \"amora\", \"banana\"] \n",
    "palavras_ordenadas = sorted(palavras, key = lambda palavra: len(palavra))\n",
    "print(palavras_ordenadas)\n",
    "# Output: [\"maçã\", \"amora\", \"banana\", \"morango\"]"
   ]
  },
  {
   "cell_type": "code",
   "execution_count": 25,
   "metadata": {},
   "outputs": [
    {
     "name": "stdout",
     "output_type": "stream",
     "text": [
      "8\n"
     ]
    }
   ],
   "source": [
    "adicionar = lambda x, y: x + y\n",
    "resultado = adicionar(5, 3)\n",
    "print(resultado)\n",
    "# Output: 8"
   ]
  },
  {
   "cell_type": "markdown",
   "metadata": {},
   "source": [
    "`map()`"
   ]
  },
  {
   "cell_type": "code",
   "execution_count": 26,
   "metadata": {},
   "outputs": [
    {
     "name": "stdout",
     "output_type": "stream",
     "text": [
      "[1, 2, 3, 4, 5]\n",
      "[2, 4, 6, 8, 10]\n"
     ]
    }
   ],
   "source": [
    "numeros = range(1, 6) # equivalente a [1, 2, 3, 4, 5]\n",
    "print(list(numeros))\n",
    "\n",
    "dobros = map(lambda x: x*2, numeros)\n",
    "print(list(dobros))"
   ]
  },
  {
   "cell_type": "markdown",
   "metadata": {},
   "source": [
    "`filter()`"
   ]
  },
  {
   "cell_type": "code",
   "execution_count": 27,
   "metadata": {},
   "outputs": [
    {
     "name": "stdout",
     "output_type": "stream",
     "text": [
      "[2, 4, 6, 8, 10]\n"
     ]
    }
   ],
   "source": [
    "numeros = range(1, 11)\n",
    "pares = filter(lambda x: x % 2 == 0, numeros)\n",
    "print(list(pares))"
   ]
  },
  {
   "cell_type": "markdown",
   "metadata": {},
   "source": [
    "`reduce()`"
   ]
  },
  {
   "cell_type": "code",
   "execution_count": 28,
   "metadata": {},
   "outputs": [
    {
     "name": "stdout",
     "output_type": "stream",
     "text": [
      "15\n"
     ]
    }
   ],
   "source": [
    "from functools import reduce\n",
    "\n",
    "numeros = [1, 2, 3, 4, 5]\n",
    "red = reduce(lambda x, y: x + y, numeros)\n",
    "print(red)"
   ]
  },
  {
   "cell_type": "markdown",
   "metadata": {},
   "source": [
    "### Funções recursivas"
   ]
  },
  {
   "cell_type": "code",
   "execution_count": 29,
   "metadata": {},
   "outputs": [
    {
     "name": "stdout",
     "output_type": "stream",
     "text": [
      "O fatorial de 5 é: 120\n"
     ]
    }
   ],
   "source": [
    "def factorial(n):\n",
    "    # Caso base: se n for 0 ou 1, o fatorial é 1\n",
    "    if n == 0 or n == 1:\n",
    "        return 1\n",
    "    # Caso recursivo: chama a função fatorial com n-1 e multiplica por n\n",
    "    else:\n",
    "        return n * factorial(n - 1)\n",
    "\n",
    "# Exemplo de uso\n",
    "resultado = factorial(5)\n",
    "print(\"O fatorial de 5 é:\", resultado)"
   ]
  },
  {
   "cell_type": "markdown",
   "metadata": {},
   "source": [
    "# Notação Big-O"
   ]
  },
  {
   "cell_type": "code",
   "execution_count": 30,
   "metadata": {},
   "outputs": [],
   "source": [
    "def soma_lista(lista):\n",
    "    total = 0\n",
    "    for elemento in lista:\n",
    "        total += elemento\n",
    "    return total"
   ]
  },
  {
   "cell_type": "markdown",
   "metadata": {},
   "source": [
    "**Explicação:**\n",
    "\n",
    "A função percorre cada elemento da lista uma vez, somando-o ao total. Portanto, o tempo de execução da função é diretamente proporcional ao número de elementos na lista, denotado como $n$.\n",
    "\n",
    "Assim, a complexidade temporal da função `soma_lista` é $O(n)$, onde $n$ é o tamanho da lista.\n",
    "\n",
    "Isto significa que o tempo de execução aumenta linearmente com o aumento do tamanho da lista. Se a lista tiver o dobro de elementos, a função levará aproximadamente o dobro do tempo para ser executada. Mesmo que a lista tenha milhões de elementos, o tempo de execução da função `soma_lista` será diretamente proporcional ao número de elementos na lista, sem depender de outros fatores."
   ]
  },
  {
   "cell_type": "code",
   "execution_count": 31,
   "metadata": {},
   "outputs": [],
   "source": [
    "def imprime_pares(lista):\n",
    "    for i in range(len(lista)):\n",
    "        for j in range(len(lista)):\n",
    "            print(lista[i], lista[j])\n"
   ]
  },
  {
   "cell_type": "markdown",
   "metadata": {},
   "source": [
    "**Explicação:**\n",
    "\n",
    "O primeiro loop `for` itera sobre todos os elementos da lista, o que leva $O(n)$ operações, onde $n$ é o tamanho da lista.\n",
    "\n",
    "Dentro deste loop, há outro loop `for` que itera novamente sobre todos os elementos da lista e que também executa $O(n)$ operações.\n",
    "\n",
    "Como ambos os loops `for` são aninhados (*nested*, em inglês), a função executa $O(n * n)$ operações no total.\n",
    "\n",
    "Portanto, a complexidade temporal da função `imprime_pares` é $O(n^2)$, onde $n$ é o tamanho da lista.\n",
    "\n",
    "Isto significa que o tempo de execução aumenta quadraticamente com o aumento do tamanho da lista. Se a lista tiver o dobro de elementos, a função demorará aproximadamente quatro vezes mais tempo para ser executada."
   ]
  },
  {
   "cell_type": "markdown",
   "metadata": {},
   "source": [
    "# Programação Orientada a Objetos"
   ]
  },
  {
   "cell_type": "markdown",
   "metadata": {},
   "source": [
    "## Classes"
   ]
  },
  {
   "cell_type": "markdown",
   "metadata": {},
   "source": [
    "### Exemplo - criar a classe Carro \n",
    "Representa um carro"
   ]
  },
  {
   "cell_type": "code",
   "execution_count": 32,
   "metadata": {},
   "outputs": [],
   "source": [
    "class Carro:\n",
    "    def __init__(self, marca, modelo, ano, cor):\n",
    "        self.marca = marca\n",
    "        self.modelo = modelo\n",
    "        self.ano = ano\n",
    "        self.cor = cor\n",
    "        self.velocidade = 0\n",
    "        \n",
    "    def acelerar(self, incremento):\n",
    "        \"\"\"Acelera o carro.\"\"\"\n",
    "        self.velocidade += incremento\n",
    "    \n",
    "    def desacelarar(self, decremento):\n",
    "        \"\"\"Desacelera o carro\"\"\"\n",
    "        self.velocidade -= decremento"
   ]
  },
  {
   "cell_type": "markdown",
   "metadata": {},
   "source": [
    "Exemplo - Python *built-in*"
   ]
  },
  {
   "cell_type": "code",
   "execution_count": 33,
   "metadata": {},
   "outputs": [
    {
     "name": "stdout",
     "output_type": "stream",
     "text": [
      "[<class 'int'>, <class 'str'>, <class 'dict'>, <class 'list'>, <class 'tuple'>]\n"
     ]
    }
   ],
   "source": [
    "exemplo = [1, \"a\", {\"amora\": 0}, [1, 2, 3], (2, 3, 5)] \n",
    "print([type(x) for x in exemplo])\n",
    "# [<class ‘int’>, <class ‘str’>, <class ‘dict’>, <class ‘list’>, <class ‘tuple’>]"
   ]
  },
  {
   "cell_type": "markdown",
   "metadata": {},
   "source": [
    "Exemplo - Python Numpy"
   ]
  },
  {
   "cell_type": "code",
   "execution_count": 34,
   "metadata": {},
   "outputs": [
    {
     "name": "stdout",
     "output_type": "stream",
     "text": [
      "Looking in indexes: https://:****@pkgs.dev.azure.com/diemobiliar/PYT/_packaging/python-main/pypi/simple\n",
      "Requirement already satisfied: numpy in c:\\users\\catarinagouveia\\miniconda3\\lib\\site-packages (1.25.1)\n"
     ]
    }
   ],
   "source": [
    "# Nota: corra a seguinte linha para instalar a biblioteca (se não tiver já instalada)\n",
    "!pip install numpy"
   ]
  },
  {
   "cell_type": "code",
   "execution_count": 35,
   "metadata": {},
   "outputs": [],
   "source": [
    "import numpy as np\n",
    "\n",
    "# Criar um array numpy\n",
    "meu_array = np.array([1, 2, 3, 4, 5])"
   ]
  },
  {
   "cell_type": "code",
   "execution_count": 36,
   "metadata": {},
   "outputs": [
    {
     "name": "stdout",
     "output_type": "stream",
     "text": [
      "(5,)\n"
     ]
    }
   ],
   "source": [
    "# Aceder ao atributo \"shape\"\n",
    "forma = meu_array.shape\n",
    "print(forma)"
   ]
  },
  {
   "cell_type": "code",
   "execution_count": 37,
   "metadata": {},
   "outputs": [],
   "source": [
    "# Invocar o método \"sum\" para calcular a soma dos elementos\n",
    "soma = meu_array.sum()"
   ]
  },
  {
   "cell_type": "markdown",
   "metadata": {},
   "source": [
    "### Exemplo - Classe Pessoa"
   ]
  },
  {
   "cell_type": "code",
   "execution_count": 38,
   "metadata": {},
   "outputs": [],
   "source": [
    "class Pessoa:\n",
    "    def __init__(self, nome, idade, profissao):\n",
    "        self.nome = nome\n",
    "        self.idade = idade\n",
    "        self.profissao = profissao\n",
    "        \n",
    "    def trabalho(self):\n",
    "        print(f\"{self.nome} trabalha como {self.profissao}.\")"
   ]
  },
  {
   "cell_type": "code",
   "execution_count": 39,
   "metadata": {},
   "outputs": [
    {
     "name": "stdout",
     "output_type": "stream",
     "text": [
      "Jéssica trabalha como Engenheira.\n"
     ]
    }
   ],
   "source": [
    "# Criando o objeto pessoa1\n",
    "pessoa1 = Pessoa(\"Jéssica\", 33, \"Engenheira\")\n",
    "pessoa1.trabalho()"
   ]
  },
  {
   "cell_type": "code",
   "execution_count": 40,
   "metadata": {},
   "outputs": [
    {
     "data": {
      "text/plain": [
       "<bound method Pessoa.trabalho of <__main__.Pessoa object at 0x000001F22DFA9E10>>"
      ]
     },
     "execution_count": 40,
     "metadata": {},
     "output_type": "execute_result"
    }
   ],
   "source": [
    "# Nota: verifique o que acontece se só chamar trabalho:\n",
    "pessoa1.trabalho"
   ]
  },
  {
   "cell_type": "code",
   "execution_count": 41,
   "metadata": {},
   "outputs": [
    {
     "name": "stdout",
     "output_type": "stream",
     "text": [
      "Eduardo trabalha como Engenheiro.\n"
     ]
    }
   ],
   "source": [
    "# Criando o objeto pessoa3\n",
    "pessoa1 = Pessoa(\"Eduardo\", 42, \"Engenheiro\")\n",
    "pessoa1.trabalho()"
   ]
  },
  {
   "cell_type": "markdown",
   "metadata": {},
   "source": [
    "### Classes - invocar métodos"
   ]
  },
  {
   "cell_type": "code",
   "execution_count": 42,
   "metadata": {},
   "outputs": [],
   "source": [
    "class Animal:\n",
    "    def __init__(self, nome, idade):\n",
    "        self.nome = nome\n",
    "        self.idade = idade\n",
    "        \n",
    "    def emitir_som(self):\n",
    "        return f\"{self.nome} emite um som.\"\n",
    "        \n",
    "    def mover(self):\n",
    "        return f\"{self.nome} move-se.\"\n",
    "    \n",
    "    def info(self):\n",
    "        return f\"{self.nome} tem {self.idade} anos de idade.\""
   ]
  },
  {
   "cell_type": "code",
   "execution_count": 43,
   "metadata": {},
   "outputs": [
    {
     "name": "stdout",
     "output_type": "stream",
     "text": [
      "Cão emite um som.\n",
      "Cão move-se.\n",
      "Cão tem 5 anos de idade.\n"
     ]
    }
   ],
   "source": [
    "# Inicializar a classe e chamar métodos\n",
    "animal1 = Animal(\"Cão\", 5)\n",
    "print(animal1.emitir_som())\n",
    "print(animal1.mover())\n",
    "print(animal1.info())"
   ]
  },
  {
   "cell_type": "markdown",
   "metadata": {},
   "source": [
    "### Métodos especiais"
   ]
  },
  {
   "cell_type": "code",
   "execution_count": 44,
   "metadata": {},
   "outputs": [],
   "source": [
    "class Animal:\n",
    "    def __init__(self, nome, idade):\n",
    "        self.nome = nome\n",
    "        self.idade = idade\n",
    "        \n",
    "    def __str__(self):\n",
    "        return f\"{self.nome}, {self.idade} anos.\"\n",
    "    \n",
    "    def __eq__(self, other):\n",
    "        return self.nome == other.nome and self.idade == other.idade"
   ]
  },
  {
   "cell_type": "code",
   "execution_count": 45,
   "metadata": {},
   "outputs": [
    {
     "name": "stdout",
     "output_type": "stream",
     "text": [
      "Cão, 5 anos.\n",
      "False\n",
      "True\n"
     ]
    }
   ],
   "source": [
    "# Inicializar a classe e chamar métodos\n",
    "animal1 = Animal(\"Cão\", 5)\n",
    "animal2 = Animal(\"Gato\", 3)\n",
    "print(str(animal1))\n",
    "print(animal1 == animal2)\n",
    "animal3 = Animal(\"Cão\", 5)\n",
    "print(animal1 == animal3)"
   ]
  },
  {
   "cell_type": "markdown",
   "metadata": {},
   "source": [
    "### Hierarquia e herança"
   ]
  },
  {
   "cell_type": "code",
   "execution_count": 46,
   "metadata": {},
   "outputs": [],
   "source": [
    "class Animal:\n",
    "    def __init__(self, nome):\n",
    "        self.nome = nome\n",
    "        \n",
    "    def emite_som(self):\n",
    "        return f\"{self.nome} faz um som.\"\n",
    "        \n",
    "    def come(self, comida):\n",
    "        self.comida = comida\n",
    "        return f\"{self.nome} come {self.comida}.\""
   ]
  },
  {
   "cell_type": "code",
   "execution_count": 47,
   "metadata": {},
   "outputs": [],
   "source": [
    "class Gato(Animal):\n",
    "    def dorme(self, numero_horas):\n",
    "        self.tempo_sono = numero_horas\n",
    "        return f\"O gato vai estar a dormir {numero_horas} horas.\""
   ]
  },
  {
   "cell_type": "code",
   "execution_count": 48,
   "metadata": {},
   "outputs": [],
   "source": [
    "class Cao(Animal):\n",
    "    def __init__(self, nome, raca):\n",
    "        super().__init__(nome) # Chamar o construtor da super-class\n",
    "        self.raca = raca\n",
    "        \n",
    "    def emite_som(self):\n",
    "        return f\"{self.nome} ladra.\""
   ]
  },
  {
   "cell_type": "markdown",
   "metadata": {},
   "source": [
    "1. Quais são os atributos e métodos que estão disponíveis na classe Animal?\n",
    "2. Quais são os atributos e métodos disponíveis para a classe Gato?\n",
    "3. E para a classe Cão?\n",
    "4. Quais são as diferenças entre a classe Cão e Gato?\n",
    "5. Cria um objeto da classe cão e um objeto da classe gato. Chame os seus métodos emite_som(), respetivamente.\n",
    "6. Cria uma classe Pássaro que tem um método dormir() e um método emite_som() - devem ser representativos de um pássaro."
   ]
  },
  {
   "cell_type": "code",
   "execution_count": 49,
   "metadata": {},
   "outputs": [
    {
     "name": "stdout",
     "output_type": "stream",
     "text": [
      "Bobby - Golden retriever\n",
      "Iris\n",
      "Iris faz um som.\n",
      "Iris come ovo.\n",
      "O gato vai estar a dormir 8 horas.\n",
      "Bobby ladra.\n",
      "Bobby come carne.\n"
     ]
    }
   ],
   "source": [
    "cao1 = Cao(\"Bobby\", \"Golden retriever\")\n",
    "gato1 = Gato(\"Iris\")\n",
    "print(f\"{cao1.nome} - {cao1.raca}\")\n",
    "print(gato1.nome)\n",
    "\n",
    "print(gato1.emite_som())\n",
    "print(gato1.come(\"ovo\"))\n",
    "print(gato1.dorme(8))\n",
    "\n",
    "print(cao1.emite_som())\n",
    "print(cao1.come(\"carne\"))\n",
    "\n",
    "# Output:\n",
    "# Bobby - Golden retriever\n",
    "# Iris\n",
    "\n",
    "# Iris faz um som.\n",
    "# Iris come ovo\n",
    "# O gato vai estar a dormir 8 horas.\n",
    "\n",
    "# Bobby ladra.\n",
    "# Bobby come carne.\n"
   ]
  },
  {
   "cell_type": "code",
   "execution_count": null,
   "metadata": {},
   "outputs": [],
   "source": []
  }
 ],
 "metadata": {
  "kernelspec": {
   "display_name": "scc-imageanonymizer-env",
   "language": "python",
   "name": "python3"
  },
  "language_info": {
   "codemirror_mode": {
    "name": "ipython",
    "version": 3
   },
   "file_extension": ".py",
   "mimetype": "text/x-python",
   "name": "python",
   "nbconvert_exporter": "python",
   "pygments_lexer": "ipython3",
   "version": "3.11.2"
  }
 },
 "nbformat": 4,
 "nbformat_minor": 2
}
