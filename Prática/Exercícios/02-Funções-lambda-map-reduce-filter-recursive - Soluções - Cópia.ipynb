{
 "cells": [
  {
   "cell_type": "markdown",
   "metadata": {},
   "source": [
    "<div>\n",
    "    <img src=\"../img/AcademiaCloser.png\">\n",
    "</div>"
   ]
  },
  {
   "cell_type": "markdown",
   "metadata": {},
   "source": [
    "## Exercícios"
   ]
  },
  {
   "cell_type": "markdown",
   "metadata": {},
   "source": [
    "### Funções Lambda"
   ]
  },
  {
   "cell_type": "markdown",
   "metadata": {},
   "source": [
    "1. Defina uma função lambda que converta uma string para maiúsculas.\n",
    "\n",
    "2. Defina uma função lambda que calcule o cubo de um número.\n",
    "\n",
    "2. Defina uma função lambda que converta uma temperatura de Celsius para Fahrenheit."
   ]
  },
  {
   "cell_type": "code",
   "execution_count": null,
   "metadata": {},
   "outputs": [],
   "source": [
    "# Exercicio 1"
   ]
  },
  {
   "cell_type": "code",
   "execution_count": null,
   "metadata": {},
   "outputs": [],
   "source": [
    "# Exercicio 2"
   ]
  },
  {
   "cell_type": "markdown",
   "metadata": {},
   "source": [
    "Ajuda exercício 3:\n",
    "\n",
    "$F=C*9/5+32$\n",
    "\n",
    "Onde:\n",
    "\n",
    "$F$ é a temperatura em Fahrenheit,\n",
    "\n",
    "$C$ é a temperatura em Celsius."
   ]
  },
  {
   "cell_type": "code",
   "execution_count": null,
   "metadata": {},
   "outputs": [],
   "source": [
    "# Exercício 3"
   ]
  },
  {
   "cell_type": "markdown",
   "metadata": {},
   "source": [
    "`map()`"
   ]
  },
  {
   "cell_type": "markdown",
   "metadata": {},
   "source": [
    "Utilize cada uma das funções lambda com interável utilizando a função *built-in* `map()`."
   ]
  },
  {
   "cell_type": "code",
   "execution_count": null,
   "metadata": {
    "collapsed": true
   },
   "outputs": [],
   "source": [
    "# Exercicio 4"
   ]
  },
  {
   "cell_type": "code",
   "execution_count": null,
   "metadata": {},
   "outputs": [],
   "source": [
    "# Exercicio 5"
   ]
  },
  {
   "cell_type": "code",
   "execution_count": null,
   "metadata": {},
   "outputs": [],
   "source": [
    "# Exercicio 6"
   ]
  },
  {
   "cell_type": "markdown",
   "metadata": {},
   "source": [
    "`filter()`\n",
    "\n",
    "7. Defina uma função lambda que verifique se um número é par e use-a com a função filter para filtrar todos os números pares de uma lista.\n",
    "\n",
    "8. Defina uma função lambda que verifique se uma palavra começa com a letra 'a' e use-a com a função filter para filtrar todas as palavras de uma lista que começam com 'a'.\n",
    "\n",
    "9. Defina uma função lambda que verifique se um número é positivo e use-a com a função filter para filtrar todos os números positivos de uma lista."
   ]
  },
  {
   "cell_type": "code",
   "execution_count": null,
   "metadata": {},
   "outputs": [],
   "source": [
    "# Exercicio 7. Filtrar todos os números pares de uma lista"
   ]
  },
  {
   "cell_type": "code",
   "execution_count": null,
   "metadata": {},
   "outputs": [],
   "source": [
    "# Exercicio 8. Filtrar todas as palavras de uma lista que começam com 'a'"
   ]
  },
  {
   "cell_type": "code",
   "execution_count": null,
   "metadata": {},
   "outputs": [],
   "source": [
    "# Exercicio 9. Filtrar todos os números positivos de uma lista"
   ]
  },
  {
   "cell_type": "markdown",
   "metadata": {},
   "source": [
    "`reduce()`\n",
    "\n",
    "Nota: Não se esqueça de importar a função `reduce` do módulo `functools`\n",
    "\n",
    "10. Defina uma função lambda que calcule o produto de dois números e use-a com a função `reduce` para calcular o produto de todos os elementos de uma lista.\n",
    "\n",
    "11. Defina uma função lambda que encontre o máximo de dois números e use-a com a função reduce para encontrar o máximo de uma lista de números.\n",
    "\n",
    "12. Defina uma função lambda que concatene duas strings e use-a com a função reduce para concatenar todos os elementos de uma lista de strings."
   ]
  },
  {
   "cell_type": "code",
   "execution_count": null,
   "metadata": {},
   "outputs": [],
   "source": [
    "from functools import reduce\n",
    "\n",
    "# Exercicio 10. Calcular o produto de todos os elementos de uma lista"
   ]
  },
  {
   "cell_type": "code",
   "execution_count": null,
   "metadata": {},
   "outputs": [],
   "source": [
    "# Exercicio 11. Encontrar o máximo de uma lista de números"
   ]
  },
  {
   "cell_type": "code",
   "execution_count": null,
   "metadata": {},
   "outputs": [],
   "source": [
    "# Exercicio 12. Concatenar todos os elementos de uma lista de strings"
   ]
  },
  {
   "cell_type": "markdown",
   "metadata": {},
   "source": [
    "## Funções Recursivas:\n",
    "\n",
    "13. Escreva uma função recursiva para calcular o n-ésimo termo da sequência de Fibonacci.\n",
    "\n",
    "14. Escreva uma função recursiva para inverter uma string."
   ]
  },
  {
   "cell_type": "markdown",
   "metadata": {},
   "source": [
    "\n",
    "A sequência de Fibonacci é uma sequência de números inteiros onde cada número é a soma dos dois anteriores. Formalmente, a sequência é definida recursivamente pelas seguintes condições:\n",
    "\n",
    "$F(0)=0$\n",
    "\n",
    "$F(1)=1$\n",
    "\n",
    "$F(n)=F(n−1)+F(n−2)$ para $n>1$"
   ]
  },
  {
   "cell_type": "code",
   "execution_count": null,
   "metadata": {},
   "outputs": [],
   "source": [
    "# Exercicio 13"
   ]
  },
  {
   "cell_type": "code",
   "execution_count": null,
   "metadata": {},
   "outputs": [],
   "source": [
    "# 14. Função recursiva para inverter uma string"
   ]
  },
  {
   "cell_type": "markdown",
   "metadata": {},
   "source": []
  }
 ],
 "metadata": {
  "kernelspec": {
   "display_name": "Python 3 (ipykernel)",
   "language": "python",
   "name": "python3"
  },
  "language_info": {
   "codemirror_mode": {
    "name": "ipython",
    "version": 3
   },
   "file_extension": ".py",
   "mimetype": "text/x-python",
   "name": "python",
   "nbconvert_exporter": "python",
   "pygments_lexer": "ipython3",
   "version": "3.11.2"
  },
  "vscode": {
   "interpreter": {
    "hash": "c56527485b7c9dd36c8c8808345694ae9d0a642c0f00dfb6356f9a65494ceb50"
   }
  }
 },
 "nbformat": 4,
 "nbformat_minor": 1
}
