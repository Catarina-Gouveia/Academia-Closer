{
 "cells": [
  {
   "cell_type": "markdown",
   "metadata": {},
   "source": [
    "<div>\n",
    "    <img src=\"../img/AcademiaCloser.png\">\n",
    "</div>"
   ]
  },
  {
   "cell_type": "markdown",
   "metadata": {},
   "source": [
    "## Exercícios"
   ]
  },
  {
   "cell_type": "markdown",
   "metadata": {},
   "source": [
    "### Funções Built-in"
   ]
  },
  {
   "cell_type": "markdown",
   "metadata": {},
   "source": [
    "1. Escreva uma função chamada `maior_valor` que recebe uma lista de números como argumento e retorna o maior valor da lista.\n",
    "2. Escreva uma função chamada `contar_palavras` que recebe uma string como argumento e retorna o número de palavras na string.\n",
    "3. Escreva uma função chamada `soma_quadrados` que recebe uma lista de números como argumento e retorna a soma dos quadrados desses números.\n",
    "4. Escreva uma função chamada `media` que recebe uma lista de números como argumento e retorna a média desses números.\n",
    "5. Escreva uma função chamada `ordenar_lista` que recebe uma lista de números como argumento e retorna uma nova lista contendo os mesmos números, mas em ordem crescente."
   ]
  },
  {
   "cell_type": "code",
   "execution_count": null,
   "metadata": {},
   "outputs": [],
   "source": [
    "# Exercicio 1"
   ]
  },
  {
   "cell_type": "code",
   "execution_count": null,
   "metadata": {},
   "outputs": [],
   "source": [
    "# Exercicio 2"
   ]
  },
  {
   "cell_type": "code",
   "execution_count": null,
   "metadata": {},
   "outputs": [],
   "source": [
    "# Exercício 3"
   ]
  },
  {
   "cell_type": "code",
   "execution_count": null,
   "metadata": {
    "collapsed": true
   },
   "outputs": [],
   "source": [
    "# Exercicio 4"
   ]
  },
  {
   "cell_type": "code",
   "execution_count": null,
   "metadata": {},
   "outputs": [],
   "source": [
    "# Exercicio 5"
   ]
  },
  {
   "cell_type": "markdown",
   "metadata": {},
   "source": [
    "### Funções Definidas pelo Utilizador\n",
    "6. Escreva uma função chamada `soma_valores` que recebe três números como argumentos e retorna a soma desses números.\n",
    "7. Escreva uma função chamada `inverter_string` que recebe uma string como argumento e retorna a string invertida.\n",
    "8. Escreva uma função chamada `calcular_area_retangulo` que recebe o comprimento e a largura de um retângulo como argumentos e retorna a área do 9. retângulo.\n",
    "10. Escreva uma função chamada `verificar_palindroma` que recebe uma string como argumento e retorna `True` se a string for um palíndroma e `False` caso contrário.\n",
    "11. Escreva uma função chamada `multiplicar_lista` que recebe uma lista de números como argumento e retorna o produto desses números.\n"
   ]
  },
  {
   "cell_type": "code",
   "execution_count": null,
   "metadata": {},
   "outputs": [],
   "source": [
    "# Exercicio 6"
   ]
  },
  {
   "cell_type": "code",
   "execution_count": null,
   "metadata": {},
   "outputs": [],
   "source": [
    "# Exercicio 7"
   ]
  },
  {
   "cell_type": "code",
   "execution_count": null,
   "metadata": {},
   "outputs": [],
   "source": [
    "# Exercicio 8"
   ]
  },
  {
   "cell_type": "code",
   "execution_count": null,
   "metadata": {},
   "outputs": [],
   "source": [
    "# Exercicio 9"
   ]
  },
  {
   "cell_type": "code",
   "execution_count": null,
   "metadata": {},
   "outputs": [],
   "source": [
    "# Exercicio 10"
   ]
  },
  {
   "cell_type": "markdown",
   "metadata": {},
   "source": [
    "### Funções com Diferentes Tipos de Argumentos\n",
    "11. Escreva uma função chamada `saudacao` que recebe o `nome` e uma saudação inicial (`saudacao_inicial`) como argumentos obrigatórios e um argumento opcional `saudacao_adicional`. A função deve imprimir uma saudação personalizada de acordo com os argumentos fornecidos.\n",
    "12. Escreva uma função chamada `concatenar_strings` que recebe duas ou mais strings como argumentos e retorna uma única string concatenada.\n",
    "13. Escreva uma função chamada `exibir_info` que aceita um argumento obrigatório `nome` e dois argumentos opcionais `idade` e `cidade`. A função deve imprimir informações sobre a pessoa, incluindo nome, idade e cidade, se fornecidas."
   ]
  },
  {
   "cell_type": "code",
   "execution_count": null,
   "metadata": {},
   "outputs": [],
   "source": [
    "# Exercicio 11"
   ]
  },
  {
   "cell_type": "code",
   "execution_count": null,
   "metadata": {},
   "outputs": [],
   "source": [
    "# Exercicio 12"
   ]
  },
  {
   "cell_type": "code",
   "execution_count": null,
   "metadata": {},
   "outputs": [],
   "source": [
    "# Exercicio 13"
   ]
  },
  {
   "cell_type": "markdown",
   "metadata": {},
   "source": [
    "### Exercícios extra\n",
    "14. Escreva uma função chamada `calcular_media_ponderada` que recebe duas listas: uma lista de valores e uma lista de pesos correspondentes. A função deve calcular e retornar a média ponderada dos valores.\n",
    "15. Escreva uma função chamada `converter_temperatura` que recebe uma temperatura em graus Celsius como argumento e um argumento opcional indicando a escala de temperatura desejada (por exemplo, Fahrenheit ou Kelvin). A função deve retornar a temperatura convertida para a escala desejada.\n",
    "16. Escreva uma função chamada `calcular_idade_em_dias` que recebe a idade de uma pessoa em anos, meses e dias como argumentos e retorna a idade total em dias."
   ]
  },
  {
   "cell_type": "code",
   "execution_count": null,
   "metadata": {},
   "outputs": [],
   "source": [
    "# Exercicio 14"
   ]
  },
  {
   "cell_type": "code",
   "execution_count": null,
   "metadata": {},
   "outputs": [],
   "source": [
    "# Exercicio 15"
   ]
  },
  {
   "cell_type": "code",
   "execution_count": null,
   "metadata": {},
   "outputs": [],
   "source": [
    "# Exercicio 16"
   ]
  },
  {
   "cell_type": "markdown",
   "metadata": {},
   "source": []
  }
 ],
 "metadata": {
  "kernelspec": {
   "display_name": "Python 3 (ipykernel)",
   "language": "python",
   "name": "python3"
  },
  "language_info": {
   "codemirror_mode": {
    "name": "ipython",
    "version": 3
   },
   "file_extension": ".py",
   "mimetype": "text/x-python",
   "name": "python",
   "nbconvert_exporter": "python",
   "pygments_lexer": "ipython3",
   "version": "3.11.2"
  },
  "vscode": {
   "interpreter": {
    "hash": "c56527485b7c9dd36c8c8808345694ae9d0a642c0f00dfb6356f9a65494ceb50"
   }
  }
 },
 "nbformat": 4,
 "nbformat_minor": 1
}
