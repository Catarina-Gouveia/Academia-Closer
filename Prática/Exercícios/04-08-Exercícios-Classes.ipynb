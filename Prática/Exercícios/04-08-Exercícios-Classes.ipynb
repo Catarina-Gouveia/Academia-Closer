{
 "cells": [
  {
   "cell_type": "markdown",
   "metadata": {},
   "source": [
    "<div>\n",
    "    <img src=\"img/AcademiaCloser.png\">\n",
    "</div>"
   ]
  },
  {
   "cell_type": "markdown",
   "metadata": {},
   "source": [
    "## **Exercícios - Classes** \n",
    "\n",
    "Nota: Este ficheiro contém exercícios sobre classes, objetos, métodos e hierarquia."
   ]
  },
  {
   "cell_type": "markdown",
   "metadata": {},
   "source": [
    "### **Exercício 1** \n",
    "1. Crie um objeto da classe foguete, abaixo, chamado Fog1 nas coordenadas (10, 8).\n",
    "2. Imprima as coordenadas do foguete.\n",
    "3. Mova o foguete - aumentando 2 unidades no eixo x e diminuindo 1 unidade no eixo y.\n",
    "4. Imprima novamente as coordenadas do foguete. Utilize os métodos da classe para realizar o exercício."
   ]
  },
  {
   "cell_type": "code",
   "execution_count": null,
   "metadata": {},
   "outputs": [],
   "source": [
    "class Foguete():\n",
    "     \n",
    "    def __init__(self, x=0, y=0):\n",
    "        self.x = x\n",
    "        self.y = y\n",
    "        \n",
    "    def mover_foguete(self, incremento_x=0, incremento_y=1):\n",
    "        self.x += incremento_x\n",
    "        self.y += incremento_y\n",
    "        \n",
    "    def imprimir_foguete(self):\n",
    "        print(self.x, self.y)"
   ]
  },
  {
   "cell_type": "code",
   "execution_count": null,
   "metadata": {},
   "outputs": [],
   "source": [
    "# Resolve os exercícios aqui"
   ]
  },
  {
   "cell_type": "markdown",
   "metadata": {},
   "source": [
    "### **Exercício 2**\n",
    "\n",
    "Crie uma classe para uma conta bancária simples.\n",
    "\n",
    "Crie uma classe em Python chamada `ContaBancaria` que tenha os seguintes atributos e métodos:\n",
    "\n",
    "Atributos:\n",
    "- `numero_conta` (número único da conta)\n",
    "- `titular_conta` (nome do titular da conta)\n",
    "- `saldo` (saldo inicial)\n",
    "\n",
    "Métodos:\n",
    "- `deposito(valor)`: adiciona o valor fornecido ao saldo da conta.\n",
    "- `levantamento(valor)`: subtrai o valor levantado ao saldo da conta. Se o valor for maior do que o saldo, deve ser impresso \"Fundos insuficientes!\".\n",
    "- `obter_saldo()`: Retorna o saldo atual.\n",
    "- `mostrar_informacoes_conta()`: Exibe o número da conta, o nome do titular da conta e o saldo atual.\n",
    "\n",
    "Lembre-se de testar a classe para garantir que tudo funcione corretamente."
   ]
  },
  {
   "cell_type": "code",
   "execution_count": null,
   "metadata": {},
   "outputs": [],
   "source": [
    "# Resolva o exercício aqui\n",
    "class ContaBancaria:\n",
    "    # Altere o código e remova \"pass\"\n",
    "    pass"
   ]
  },
  {
   "cell_type": "markdown",
   "metadata": {},
   "source": [
    "### **Exercício 3**\n",
    "Considere a próxima classe:"
   ]
  },
  {
   "cell_type": "code",
   "execution_count": null,
   "metadata": {
    "collapsed": true
   },
   "outputs": [],
   "source": [
    "class ClienteBancario:\n",
    "    def __init__(self, primeiro_nome, ultimo_nome, idade, endereco):\n",
    "        self.primeiro_nome = primeiro_nome\n",
    "        self.ultimo_nome = ultimo_nome\n",
    "        self.idade = idade\n",
    "        self.endereco = endereco\n",
    "\n",
    "    def saudacao(self):\n",
    "        return f\"Bem-vindo, {self.primeiro_nome} {self.ultimo_nome}.\"\n",
    "\n",
    "    def aniversario(self):\n",
    "        self.idade += 1\n",
    "        return f\"Hoje é o seu aniversário! Feliz aniversário, {self.primeiro_nome}\"\n",
    "\n",
    "    def alterar_endereco(self, novo_endereco):\n",
    "        self.endereco = novo_endereco"
   ]
  },
  {
   "cell_type": "code",
   "execution_count": null,
   "metadata": {},
   "outputs": [],
   "source": [
    "# Crie um objeto cliente do banco\n",
    "cliente_manuel = ClienteBancario(\"Manuel\", \"Silva\", 25, \"Porto\")"
   ]
  },
  {
   "cell_type": "markdown",
   "metadata": {},
   "source": [
    "Exercício:\n",
    "1. Altere o endereço de \"Porto\" para \"Lisboa\" e imprima o endereço atualizado.\n",
    "2. Celebre o aniversário de Manuel e imprima sua idade atualizada.\n",
    "3. Altere a idade de Manuel para 30 e imprima sua idade atualizada."
   ]
  },
  {
   "cell_type": "code",
   "execution_count": null,
   "metadata": {},
   "outputs": [],
   "source": [
    "# Resolva aqui"
   ]
  },
  {
   "cell_type": "markdown",
   "metadata": {},
   "source": [
    "### **Exercício 4 - Hierarquia**\n",
    "Considere a Classe `ClienteBancario` criada anteriormente.\n",
    "\n",
    "1. Defina uma classe `ContaClienteBancario` herdada de `ClienteBancario` com atributos adicionais `numero_conta` e `saldo`.\n",
    "\n",
    "   Implemente os Métodos:\n",
    "   \n",
    "   - `__init__(self, primeiro_nome, ultimo_nome, idade, numero_conta, saldo)`, que inicializa uma conta bancária com um nome, idade, número da conta e saldo.\n",
    "   - `deposito(self, valor)`, que adiciona o valor depositado ao saldo da conta.\n",
    "   - `levantamento(self, valor)`, que subtrai o valor levantado do saldo da conta. Se o valor for maior do que o saldo, imprima \"saldo insuficiente!\".\n",
    "   - `exibir_informacoes_conta(self)`, que retorna uma string formatada com o nome do cliente, número da conta, saldo e uma saudação. Por exemplo, ao chamar este método, a saída pode ser algo como: \"Olá, [nome do cliente], seu número de conta é [número da conta] e tem disponível [saldo disponível] disponível na sua conta neste momento.\"\n",
    "\n",
    "2. Crie objetos desta classe e aplique alguns dos métodos, incluindo chamadas de métodos da superclasse (`ClienteBancario`)."
   ]
  },
  {
   "cell_type": "code",
   "execution_count": null,
   "metadata": {},
   "outputs": [],
   "source": [
    "# Resolva o exercício aqui\n",
    "class ContaClienteBancario:\n",
    "    # Altere o código e remova \"pass\"\n",
    "    pass"
   ]
  },
  {
   "cell_type": "markdown",
   "metadata": {},
   "source": []
  }
 ],
 "metadata": {
  "kernelspec": {
   "display_name": "Python 3 (ipykernel)",
   "language": "python",
   "name": "python3"
  },
  "language_info": {
   "codemirror_mode": {
    "name": "ipython",
    "version": 3
   },
   "file_extension": ".py",
   "mimetype": "text/x-python",
   "name": "python",
   "nbconvert_exporter": "python",
   "pygments_lexer": "ipython3",
   "version": "3.11.2"
  },
  "vscode": {
   "interpreter": {
    "hash": "c56527485b7c9dd36c8c8808345694ae9d0a642c0f00dfb6356f9a65494ceb50"
   }
  }
 },
 "nbformat": 4,
 "nbformat_minor": 1
}
