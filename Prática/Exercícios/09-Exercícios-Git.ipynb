{
 "cells": [
  {
   "cell_type": "markdown",
   "metadata": {},
   "source": [
    "<div>\n",
    "    <img src=\"img/AcademiaCloser.png\">\n",
    "</div>"
   ]
  },
  {
   "cell_type": "markdown",
   "metadata": {},
   "source": [
    "## **Exercícios - Git**"
   ]
  },
  {
   "cell_type": "markdown",
   "metadata": {},
   "source": [
    "1. **Clonar um Repositório Existente**:\n",
    "   - Clone um repositório existente do GitHub para a sua máquina local usando `git clone <URL_do_repositório>`.\n",
    "   \n",
    "1. **Criar um Repositório Local**:\n",
    "   - Crie uma nova pasta chamada `exercicios_academia`.\n",
    "   - Dentro dessa pasta, no terminal ou num IDE, inicialize um repositório Git usando o comando `git init`.\n",
    "   \n",
    "2. **Adicionar e \"Cometer\" (*commit*) Arquivos**:\n",
    "   - Crie um ficheiro de texto simples dentro do seu repositório. Chame-lhe `README.md` com o conteúdo \"Primeiro repositório Git\".\n",
    "   - Use o comando `git status` para verificar o status do seu repositório.\n",
    "   - Adicione o ficheiro ao controle de versão usando `git add`.\n",
    "   - Faça um commit do arquivo usando `git commit`.\n",
    "   \n",
    "3. **Criar um Repositório Remoto no GitHub**:\n",
    "   - Crie uma conta gratuita no GitHub, se ainda não tiver uma.\n",
    "   - Crie um novo repositório no GitHub.\n",
    "   \n",
    "4. **Conectar Repositório Local com Repositório Remoto**:\n",
    "   - Adicione o repositório remoto ao seu repositório local usando `git remote add origin <URL_do_repositório_remoto>`.\n",
    "   - Envie os seus commits para o repositório remoto usando `git push -u origin master`.\n",
    "   \n",
    "5. **Trabalhar com Branches**:\n",
    "   - Crie um novo branch chamado `feature` usando `git branch feature`.\n",
    "   - Mude para o novo branch usando `git checkout feature`.\n",
    "   - Faça algumas alterações no ficheiro `README.md` criado em 2, adicione e faça o commit dessas alterações.\n",
    "   - Volte para o branch principal usando `git checkout master`.\n",
    "   \n",
    "6. ***Merge* de Branches**:\n",
    "   - Faça \"*merge*\" (\"fundir\") as alterações do branch `feature` para o branch principal (`master`) usando `git merge feature`.\n",
    "   \n",
    "7. **Resolver Conflitos Merge**:\n",
    "   - Crie um conflito *merge* alterando o mesmo trecho de código em diferentes ramos (*branches*).\n",
    "   - Use um editor de texto para resolver o conflito.\n",
    "   - Adicione e faça o commit das alterações para resolver o conflito."
   ]
  },
  {
   "cell_type": "markdown",
   "metadata": {},
   "source": []
  }
 ],
 "metadata": {
  "kernelspec": {
   "display_name": "Python 3 (ipykernel)",
   "language": "python",
   "name": "python3"
  },
  "language_info": {
   "codemirror_mode": {
    "name": "ipython",
    "version": 3
   },
   "file_extension": ".py",
   "mimetype": "text/x-python",
   "name": "python",
   "nbconvert_exporter": "python",
   "pygments_lexer": "ipython3",
   "version": "3.10.9"
  },
  "vscode": {
   "interpreter": {
    "hash": "c56527485b7c9dd36c8c8808345694ae9d0a642c0f00dfb6356f9a65494ceb50"
   }
  }
 },
 "nbformat": 4,
 "nbformat_minor": 1
}
