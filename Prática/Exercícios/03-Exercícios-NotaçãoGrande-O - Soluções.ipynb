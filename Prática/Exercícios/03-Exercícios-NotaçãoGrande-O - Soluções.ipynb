{
 "cells": [
  {
   "cell_type": "markdown",
   "metadata": {},
   "source": [
    "<div>\n",
    "    <img src=\"img/AcademiaCloser.png\">\n",
    "</div>"
   ]
  },
  {
   "cell_type": "markdown",
   "metadata": {},
   "source": [
    "## Exercícios - Notação Grande-O (Big-O)"
   ]
  },
  {
   "cell_type": "markdown",
   "metadata": {},
   "source": [
    "### Exercício 1:\n",
    "Determine a notação Big O para a seguinte função:"
   ]
  },
  {
   "cell_type": "code",
   "execution_count": 2,
   "metadata": {},
   "outputs": [],
   "source": [
    "def soma_lista(lista):\n",
    "    total = 0\n",
    "    for elemento in lista:\n",
    "        total += elemento\n",
    "    return total"
   ]
  },
  {
   "cell_type": "markdown",
   "metadata": {},
   "source": [
    "Para cada elemento na lista, uma operação constante é realizada (adição).\n",
    "Como a função itera sobre cada elemento da lista uma vez, o tempo de execução é linearmente proporcional ao tamanho da lista.\n",
    "Portanto, a notação Big O é $O(n)$, onde $n$ é o tamanho da lista."
   ]
  },
  {
   "cell_type": "markdown",
   "metadata": {},
   "source": [
    "### Exercício 2:\n",
    "Determine a notação Big O para a seguinte função"
   ]
  },
  {
   "cell_type": "code",
   "execution_count": null,
   "metadata": {
    "collapsed": true
   },
   "outputs": [],
   "source": [
    "def ordena_lista(lista):\n",
    "    lista_ordenada = sorted(lista)\n",
    "    return lista_ordenada"
   ]
  },
  {
   "cell_type": "markdown",
   "metadata": {},
   "source": [
    "Esta função utiliza o algoritmo de ordenação integrado (*built-in*) `sorted()`, que geralmente é implementado como o algoritmo Timsort. O Timsort possui uma complexidade média de tempo de $log$ $O(nlogn)$, onde $n$ é o número de elementos na lista. Portanto, a complexidade de tempo para a função `ordena_lista()` é $log$ $O(nlogn)$."
   ]
  },
  {
   "cell_type": "markdown",
   "metadata": {},
   "source": [
    "### Exercício 3:\n",
    "Determine a notação Big O para a seguinte função:"
   ]
  },
  {
   "cell_type": "code",
   "execution_count": null,
   "metadata": {},
   "outputs": [],
   "source": [
    "def busca_binaria(lista, elemento):\n",
    "    inicio = 0\n",
    "    fim = len(lista) - 1\n",
    "    while inicio <= fim:\n",
    "        meio = (inicio + fim) // 2\n",
    "        if lista[meio] == elemento:\n",
    "            return True\n",
    "        elif lista[meio] < elemento:\n",
    "            inicio = meio + 1\n",
    "        else:\n",
    "            fim = meio - 1\n",
    "    return False"
   ]
  },
  {
   "cell_type": "markdown",
   "metadata": {},
   "source": [
    "Esta função implementa o algoritmo de busca binária numa lista ordenada. A busca binária possui uma complexidade de tempo de $log$ $O(logn)$, onde $n$ é o número de elementos na lista. Isto porque a cada iteração do loop, o intervalo de busca é reduzido a metade."
   ]
  },
  {
   "cell_type": "markdown",
   "metadata": {},
   "source": [
    "### Exercício 4:\n",
    "Determine a notação Big O para a seguinte função:"
   ]
  },
  {
   "cell_type": "code",
   "execution_count": null,
   "metadata": {},
   "outputs": [],
   "source": [
    "def intersecao_listas(lista1, lista2):\n",
    "    intersecao = []\n",
    "    for elemento1 in lista1:\n",
    "        for elemento2 in lista2:\n",
    "            if elemento1 == elemento2:\n",
    "                intersecao.append(elemento1)\n",
    "    return intersecao"
   ]
  },
  {
   "cell_type": "markdown",
   "metadata": {},
   "source": [
    "Esta função contém dois loops \"aninhados\" (\"*nested*\", em inglês), onde cada elemento de uma lista é comparado com cada elemento da outra lista. No pior caso, onde não há elementos em comum entre as listas, a função terá que percorrer todos os elementos de ambas as listas. Portanto, a complexidade de tempo é $O(n⋅m)$ ~ $O(n^2)$, onde $n$ é o tamanho da primeira lista e $m$ é o tamanho da segunda lista."
   ]
  },
  {
   "cell_type": "markdown",
   "metadata": {},
   "source": []
  }
 ],
 "metadata": {
  "kernelspec": {
   "display_name": "Python 3 (ipykernel)",
   "language": "python",
   "name": "python3"
  },
  "language_info": {
   "codemirror_mode": {
    "name": "ipython",
    "version": 3
   },
   "file_extension": ".py",
   "mimetype": "text/x-python",
   "name": "python",
   "nbconvert_exporter": "python",
   "pygments_lexer": "ipython3",
   "version": "3.10.9"
  },
  "vscode": {
   "interpreter": {
    "hash": "c56527485b7c9dd36c8c8808345694ae9d0a642c0f00dfb6356f9a65494ceb50"
   }
  }
 },
 "nbformat": 4,
 "nbformat_minor": 1
}
