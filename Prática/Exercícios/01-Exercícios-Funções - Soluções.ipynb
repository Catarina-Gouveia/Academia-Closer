{
 "cells": [
  {
   "cell_type": "markdown",
   "metadata": {},
   "source": [
    "<div>\n",
    "    <img src=\"../img/AcademiaCloser.png\">\n",
    "</div>"
   ]
  },
  {
   "cell_type": "markdown",
   "metadata": {},
   "source": [
    "## Exercícios"
   ]
  },
  {
   "cell_type": "markdown",
   "metadata": {},
   "source": [
    "### Funções Built-in"
   ]
  },
  {
   "cell_type": "markdown",
   "metadata": {},
   "source": [
    "1. Escreva uma função chamada `maior_valor` que recebe uma lista de números como argumento e retorna o maior valor da lista.\n",
    "2. Escreva uma função chamada `contar_palavras` que recebe uma string como argumento e retorna o número de palavras na string.\n",
    "3. Escreva uma função chamada `soma_quadrados` que recebe uma lista de números como argumento e retorna a soma dos quadrados desses números.\n",
    "4. Escreva uma função chamada `media` que recebe uma lista de números como argumento e retorna a média desses números.\n",
    "5. Escreva uma função chamada `ordenar_lista` que recebe uma lista de números como argumento e retorna uma nova lista contendo os mesmos números, mas em ordem crescente."
   ]
  },
  {
   "cell_type": "code",
   "execution_count": 8,
   "metadata": {},
   "outputs": [
    {
     "name": "stdout",
     "output_type": "stream",
     "text": [
      "20\n"
     ]
    }
   ],
   "source": [
    "def maior_valor(lista):\n",
    "    return max(lista)\n",
    "\n",
    "# Teste/Resultado\n",
    "numeros = [10, 5, 8, 20, 15]\n",
    "print(maior_valor(numeros))  # Saída: 20"
   ]
  },
  {
   "cell_type": "code",
   "execution_count": 9,
   "metadata": {},
   "outputs": [
    {
     "name": "stdout",
     "output_type": "stream",
     "text": [
      "7\n"
     ]
    }
   ],
   "source": [
    "def contar_palavras(frase):\n",
    "    palavras = frase.split()\n",
    "    return len(palavras)\n",
    "\n",
    "# Teste/Resultado\n",
    "texto = \"Python é uma linguagem de programação poderosa\"\n",
    "print(contar_palavras(texto))  # Saída: 7"
   ]
  },
  {
   "cell_type": "code",
   "execution_count": 10,
   "metadata": {},
   "outputs": [
    {
     "name": "stdout",
     "output_type": "stream",
     "text": [
      "55\n"
     ]
    }
   ],
   "source": [
    "def soma_quadrados(lista):\n",
    "    return sum(x ** 2 for x in lista)\n",
    "\n",
    "# Teste/Resultado\n",
    "numeros = [1, 2, 3, 4, 5]\n",
    "print(soma_quadrados(numeros))  # Saída: 55"
   ]
  },
  {
   "cell_type": "code",
   "execution_count": 1,
   "metadata": {
    "collapsed": true
   },
   "outputs": [
    {
     "name": "stdout",
     "output_type": "stream",
     "text": [
      "3.0\n"
     ]
    }
   ],
   "source": [
    "# Resolva aqui os exercícios\n",
    "def media(lista):\n",
    "    return sum(lista) / len(lista)\n",
    "\n",
    "# Teste/Resultado\n",
    "numeros = [1, 2, 3, 4, 5]\n",
    "print(media(numeros))  # Saída: 3.0"
   ]
  },
  {
   "cell_type": "code",
   "execution_count": 7,
   "metadata": {},
   "outputs": [
    {
     "name": "stdout",
     "output_type": "stream",
     "text": [
      "[1, 1, 2, 3, 4, 5, 5, 6, 9]\n"
     ]
    }
   ],
   "source": [
    "def ordenar_lista(lista_numeros):\n",
    "    return sorted(lista_numeros)\n",
    "\n",
    "# Teste/Resultado\n",
    "lista_numeros = [3, 1, 4, 1, 5, 9, 2, 6, 5]\n",
    "print(ordenar_lista(lista_numeros))  # Saída: [1, 1, 2, 3, 4, 5, 5, 6, 9]"
   ]
  },
  {
   "cell_type": "markdown",
   "metadata": {},
   "source": [
    "### Funções Definidas pelo Utilizador\n",
    "6. Escreva uma função chamada `soma_valores` que recebe três números como argumentos e retorna a soma desses números.\n",
    "7. Escreva uma função chamada `inverter_string` que recebe uma string como argumento e retorna a string invertida.\n",
    "8. Escreva uma função chamada `calcular_area_retangulo` que recebe o comprimento e a largura de um retângulo como argumentos e retorna a área do 9. retângulo.\n",
    "10. Escreva uma função chamada `verificar_palindroma` que recebe uma string como argumento e retorna `True` se a string for um palíndroma e `False` caso contrário.\n",
    "11. Escreva uma função chamada `multiplicar_lista` que recebe uma lista de números como argumento e retorna o produto desses números.\n"
   ]
  },
  {
   "cell_type": "code",
   "execution_count": null,
   "metadata": {},
   "outputs": [],
   "source": [
    "def soma_valores(num1, num2, num3):\n",
    "    return num1 + num2 + num3\n",
    "\n",
    "# Teste/Resultado\n",
    "print(soma_valores(5, 7))  # Saída: 12"
   ]
  },
  {
   "cell_type": "code",
   "execution_count": 11,
   "metadata": {},
   "outputs": [
    {
     "name": "stdout",
     "output_type": "stream",
     "text": [
      "nohtyp\n"
     ]
    }
   ],
   "source": [
    "def inverter_string(texto):\n",
    "    return texto[::-1]\n",
    "\n",
    "# Teste/Resultado\n",
    "print(inverter_string(\"python\"))  # Saída: 'nohtyp'"
   ]
  },
  {
   "cell_type": "code",
   "execution_count": null,
   "metadata": {},
   "outputs": [],
   "source": [
    "def calcular_area_retangulo(comprimento, largura):\n",
    "    return comprimento * largura\n",
    "\n",
    "# Teste/Resultado\n",
    "print(calcular_area_retangulo(5, 8))  # Saída: 40"
   ]
  },
  {
   "cell_type": "code",
   "execution_count": null,
   "metadata": {},
   "outputs": [],
   "source": [
    "def verificar_palindroma(texto):\n",
    "    return texto == texto[::-1]\n",
    "\n",
    "# Teste/Resultado\n",
    "print(verificar_palindroma(\"arara\"))  # Saída: True\n",
    "print(verificar_palindroma(\"python\"))  # Saída: False"
   ]
  },
  {
   "cell_type": "code",
   "execution_count": null,
   "metadata": {},
   "outputs": [],
   "source": [
    "def multiplicar_lista(lista):\n",
    "    resultado = 1\n",
    "    for num in lista:\n",
    "        resultado *= num\n",
    "    return resultado\n",
    "\n",
    "# Teste/Resultado\n",
    "numeros = [1, 2, 3, 4, 5]\n",
    "print(multiplicar_lista(numeros))  # Saída: 120"
   ]
  },
  {
   "cell_type": "markdown",
   "metadata": {},
   "source": [
    "### Funções com Diferentes Tipos de Argumentos\n",
    "11. Escreva uma função chamada `saudacao` que recebe o `nome` e uma saudação inicial (`saudacao_inicial`) como argumentos obrigatórios e um argumento opcional `saudacao_adicional`. A função deve imprimir uma saudação personalizada de acordo com os argumentos fornecidos.\n",
    "12. Escreva uma função chamada `concatenar_strings` que recebe duas ou mais strings como argumentos e retorna uma única string concatenada.\n",
    "13. Escreva uma função chamada `exibir_info` que aceita um argumento obrigatório `nome` e dois argumentos opcionais `idade` e `cidade`. A função deve imprimir informações sobre a pessoa, incluindo nome, idade e cidade, se fornecidas."
   ]
  },
  {
   "cell_type": "code",
   "execution_count": 18,
   "metadata": {},
   "outputs": [
    {
     "name": "stdout",
     "output_type": "stream",
     "text": [
      "Olá, João!\n",
      "Até amanhã, Maria! Tenha uma boa noite!\n"
     ]
    }
   ],
   "source": [
    "def saudacao(nome, saudacao_inicial, saudacao_adicional=None):\n",
    "    saudacao = f\"{saudacao_inicial}, {nome}!\"\n",
    "    if saudacao_adicional:\n",
    "        saudacao += f\" {saudacao_adicional}\"\n",
    "    print(saudacao)\n",
    "\n",
    "# Teste/Resultado\n",
    "saudacao(\"João\", \"Olá\")\n",
    "saudacao(\"Maria\", \"Até amanhã\", \"Tenha uma boa noite!\")"
   ]
  },
  {
   "cell_type": "code",
   "execution_count": 12,
   "metadata": {},
   "outputs": [
    {
     "name": "stdout",
     "output_type": "stream",
     "text": [
      "Olá, como vai você?\n"
     ]
    }
   ],
   "source": [
    "def concatenar_strings(*args):\n",
    "    return ''.join(args)\n",
    "\n",
    "# Teste/Resultado\n",
    "print(concatenar_strings(\"Olá, \", \"como \", \"vai \", \"você?\"))"
   ]
  },
  {
   "cell_type": "code",
   "execution_count": 19,
   "metadata": {},
   "outputs": [
    {
     "name": "stdout",
     "output_type": "stream",
     "text": [
      "Nome: João, Idade: 30, Cidade: São Paulo\n",
      "Nome: Maria, Cidade: Rio de Janeiro\n"
     ]
    }
   ],
   "source": [
    "def exibir_info(nome, idade=None, cidade=None):\n",
    "    info = f\"Nome: {nome}\"\n",
    "    if idade:\n",
    "        info += f\", Idade: {idade}\"\n",
    "    if cidade:\n",
    "        info += f\", Cidade: {cidade}\"\n",
    "    print(info)\n",
    "\n",
    "# Teste/Resultado\n",
    "exibir_info(\"João\", 30, \"São Paulo\")\n",
    "exibir_info(\"Maria\", cidade=\"Rio de Janeiro\")"
   ]
  },
  {
   "cell_type": "markdown",
   "metadata": {},
   "source": [
    "### Exercícios extra\n",
    "14. Escreva uma função chamada `calcular_media_ponderada` que recebe duas listas: uma lista de valores e uma lista de pesos correspondentes. A função deve calcular e retornar a média ponderada dos valores.\n",
    "15. Escreva uma função chamada `converter_temperatura` que recebe uma temperatura em graus Celsius como argumento e um argumento opcional indicando a escala de temperatura desejada (por exemplo, Fahrenheit ou Kelvin). A função deve retornar a temperatura convertida para a escala desejada.\n",
    "16. Escreva uma função chamada `calcular_idade_em_dias` que recebe a idade de uma pessoa em anos, meses e dias como argumentos e retorna a idade total em dias."
   ]
  },
  {
   "cell_type": "code",
   "execution_count": 13,
   "metadata": {},
   "outputs": [
    {
     "name": "stdout",
     "output_type": "stream",
     "text": [
      "7.833333333333333\n"
     ]
    }
   ],
   "source": [
    "def calcular_media_ponderada(valores, pesos):\n",
    "    if len(valores) != len(pesos):\n",
    "        raise ValueError(\"As listas de valores e pesos devem ter o mesmo tamanho\")\n",
    "    total = sum(valor * peso for valor, peso in zip(valores, pesos))\n",
    "    peso_total = sum(pesos)\n",
    "    return total / peso_total\n",
    "\n",
    "# Teste/Resultado\n",
    "valores = [7, 8, 9]\n",
    "pesos = [2, 3, 1]\n",
    "print(calcular_media_ponderada(valores, pesos))"
   ]
  },
  {
   "cell_type": "code",
   "execution_count": 14,
   "metadata": {},
   "outputs": [
    {
     "name": "stdout",
     "output_type": "stream",
     "text": [
      "86.0\n",
      "303.15\n"
     ]
    }
   ],
   "source": [
    "def converter_temperatura(temp_celsius, escala=\"Fahrenheit\"):\n",
    "    if escala.lower() == \"fahrenheit\":\n",
    "        return (temp_celsius * 9/5) + 32\n",
    "    elif escala.lower() == \"kelvin\":\n",
    "        return temp_celsius + 273.15\n",
    "    else:\n",
    "        raise ValueError(\"Escala de temperatura inválida\")\n",
    "\n",
    "# Teste/Resultado\n",
    "print(converter_temperatura(30, \"Fahrenheit\"))\n",
    "print(converter_temperatura(30, \"Kelvin\"))"
   ]
  },
  {
   "cell_type": "code",
   "execution_count": 15,
   "metadata": {},
   "outputs": [
    {
     "name": "stdout",
     "output_type": "stream",
     "text": [
      "7495\n"
     ]
    }
   ],
   "source": [
    "def calcular_idade_em_dias(anos, meses, dias):\n",
    "    dias_por_ano = 365\n",
    "    dias_por_mes = 30\n",
    "    return (anos * dias_por_ano) + (meses * dias_por_mes) + dias\n",
    "\n",
    "# Teste/Resultado\n",
    "print(calcular_idade_em_dias(20, 6, 15))"
   ]
  },
  {
   "cell_type": "markdown",
   "metadata": {},
   "source": []
  }
 ],
 "metadata": {
  "kernelspec": {
   "display_name": "Python 3 (ipykernel)",
   "language": "python",
   "name": "python3"
  },
  "language_info": {
   "codemirror_mode": {
    "name": "ipython",
    "version": 3
   },
   "file_extension": ".py",
   "mimetype": "text/x-python",
   "name": "python",
   "nbconvert_exporter": "python",
   "pygments_lexer": "ipython3",
   "version": "3.11.2"
  },
  "vscode": {
   "interpreter": {
    "hash": "c56527485b7c9dd36c8c8808345694ae9d0a642c0f00dfb6356f9a65494ceb50"
   }
  }
 },
 "nbformat": 4,
 "nbformat_minor": 1
}
