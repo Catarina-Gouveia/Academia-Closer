{
 "cells": [
  {
   "cell_type": "markdown",
   "metadata": {},
   "source": [
    "<div>\n",
    "    <img src=\"../img/AcademiaCloser.png\">\n",
    "</div>"
   ]
  },
  {
   "cell_type": "markdown",
   "metadata": {},
   "source": [
    "## Exercícios"
   ]
  },
  {
   "cell_type": "markdown",
   "metadata": {},
   "source": [
    "### Funções Lambda"
   ]
  },
  {
   "cell_type": "markdown",
   "metadata": {},
   "source": [
    "1. Defina uma função lambda que converta uma string para maiúsculas.\n",
    "\n",
    "2. Defina uma função lambda que calcule o cubo de um número.\n",
    "\n",
    "2. Defina uma função lambda que converta uma temperatura de Celsius para Fahrenheit."
   ]
  },
  {
   "cell_type": "code",
   "execution_count": 1,
   "metadata": {},
   "outputs": [],
   "source": [
    "# Exercicio 1\n",
    "converter_maiusculas = lambda s: s.upper()"
   ]
  },
  {
   "cell_type": "code",
   "execution_count": 2,
   "metadata": {},
   "outputs": [],
   "source": [
    "# Exercicio 2\n",
    "calcular_cubo = lambda x: x ** 3"
   ]
  },
  {
   "cell_type": "markdown",
   "metadata": {},
   "source": [
    "Ajuda exercício 3:\n",
    "\n",
    "$F=C*9/5+32$\n",
    "\n",
    "Onde:\n",
    "\n",
    "$F$ é a temperatura em Fahrenheit,\n",
    "\n",
    "$C$ é a temperatura em Celsius."
   ]
  },
  {
   "cell_type": "code",
   "execution_count": 3,
   "metadata": {},
   "outputs": [],
   "source": [
    "# Exercício 3\n",
    "celsius_para_fahrenheit = lambda c: c * 9/5 + 32"
   ]
  },
  {
   "cell_type": "markdown",
   "metadata": {},
   "source": [
    "`map()`"
   ]
  },
  {
   "cell_type": "markdown",
   "metadata": {},
   "source": [
    "Utilize cada uma das funções lambda com interável utilizando a função *built-in* `map()`."
   ]
  },
  {
   "cell_type": "code",
   "execution_count": 4,
   "metadata": {
    "collapsed": true
   },
   "outputs": [
    {
     "name": "stdout",
     "output_type": "stream",
     "text": [
      "['CLIENTE', 'BANCO', 'CONTA']\n"
     ]
    }
   ],
   "source": [
    "# Exercicio 4\n",
    "lista = ['cliente', 'banco', 'conta']\n",
    "print(list(map(converter_maiusculas, lista)))"
   ]
  },
  {
   "cell_type": "code",
   "execution_count": 5,
   "metadata": {},
   "outputs": [
    {
     "name": "stdout",
     "output_type": "stream",
     "text": [
      "[64, 343, 8, 729]\n"
     ]
    }
   ],
   "source": [
    "# Exercicio 5\n",
    "lista_nums = [4, 7, 2, 9]\n",
    "print(list(map(calcular_cubo, lista_nums)))"
   ]
  },
  {
   "cell_type": "code",
   "execution_count": 6,
   "metadata": {},
   "outputs": [
    {
     "name": "stdout",
     "output_type": "stream",
     "text": [
      "[32.0, 68.0, 102.2, 212.0]\n"
     ]
    }
   ],
   "source": [
    "# Exercicio 6\n",
    "temps = [0, 20, 39, 100]\n",
    "print(list(map(celsius_para_fahrenheit, temps)))"
   ]
  },
  {
   "cell_type": "markdown",
   "metadata": {},
   "source": [
    "`filter()`\n",
    "\n",
    "7. Defina uma função lambda que verifique se um número é par e use-a com a função filter para filtrar todos os números pares de uma lista.\n",
    "\n",
    "8. Defina uma função lambda que verifique se uma palavra começa com a letra 'a' e use-a com a função filter para filtrar todas as palavras de uma lista que começam com 'a'.\n",
    "\n",
    "9. Defina uma função lambda que verifique se um número é positivo e use-a com a função filter para filtrar todos os números positivos de uma lista."
   ]
  },
  {
   "cell_type": "code",
   "execution_count": 7,
   "metadata": {},
   "outputs": [
    {
     "name": "stdout",
     "output_type": "stream",
     "text": [
      "Números pares: [2, 4, 6, 8, 10]\n"
     ]
    }
   ],
   "source": [
    "# Exercicio 7. Filtrar todos os números pares de uma lista\n",
    "numeros = [1, 2, 3, 4, 5, 6, 7, 8, 9, 10]\n",
    "pares = list(filter(lambda x: x % 2 == 0, numeros))\n",
    "print(\"Números pares:\", pares)"
   ]
  },
  {
   "cell_type": "code",
   "execution_count": 8,
   "metadata": {},
   "outputs": [
    {
     "name": "stdout",
     "output_type": "stream",
     "text": [
      "Palavras que começam com 'a': ['abacaxi', 'amora']\n"
     ]
    }
   ],
   "source": [
    "# Exercicio 8. Filtrar todas as palavras de uma lista que começam com 'a'\n",
    "palavras = ['abacaxi', 'banana', 'laranja', 'amora', 'uva', 'melancia']\n",
    "palavras_com_a = list(filter(lambda x: x.startswith('a'), palavras))\n",
    "print(\"Palavras que começam com 'a':\", palavras_com_a)"
   ]
  },
  {
   "cell_type": "code",
   "execution_count": 9,
   "metadata": {},
   "outputs": [
    {
     "name": "stdout",
     "output_type": "stream",
     "text": [
      "Números positivos: [1, 2, 3]\n"
     ]
    }
   ],
   "source": [
    "# Exercicio 9. Filtrar todos os números positivos de uma lista\n",
    "numeros_negativos_positivos = [-3, -2, -1, 0, 1, 2, 3]\n",
    "positivos = list(filter(lambda x: x > 0, numeros_negativos_positivos))\n",
    "print(\"Números positivos:\", positivos)"
   ]
  },
  {
   "cell_type": "markdown",
   "metadata": {},
   "source": [
    "`reduce()`\n",
    "\n",
    "Nota: Não se esqueça de importar a função `reduce` do módulo `functools`\n",
    "\n",
    "10. Defina uma função lambda que calcule o produto de dois números e use-a com a função `reduce` para calcular o produto de todos os elementos de uma lista.\n",
    "\n",
    "11. Defina uma função lambda que encontre o máximo de dois números e use-a com a função reduce para encontrar o máximo de uma lista de números.\n",
    "\n",
    "12. Defina uma função lambda que concatene duas strings e use-a com a função reduce para concatenar todos os elementos de uma lista de strings."
   ]
  },
  {
   "cell_type": "code",
   "execution_count": 10,
   "metadata": {},
   "outputs": [
    {
     "name": "stdout",
     "output_type": "stream",
     "text": [
      "Produto dos números: 120\n"
     ]
    }
   ],
   "source": [
    "from functools import reduce\n",
    "\n",
    "# Exercicio 10. Calcular o produto de todos os elementos de uma lista\n",
    "numeros = [1, 2, 3, 4, 5]\n",
    "produto = reduce(lambda x, y: x * y, numeros)\n",
    "print(\"Produto dos números:\", produto)"
   ]
  },
  {
   "cell_type": "code",
   "execution_count": 11,
   "metadata": {},
   "outputs": [
    {
     "name": "stdout",
     "output_type": "stream",
     "text": [
      "Máximo da lista: 10\n"
     ]
    }
   ],
   "source": [
    "# Exercicio 11. Encontrar o máximo de uma lista de números\n",
    "numeros = [7, 2, 10, 4, 5]\n",
    "maximo = reduce(lambda x, y: x if x > y else y, numeros)\n",
    "print(\"Máximo da lista:\", maximo)"
   ]
  },
  {
   "cell_type": "code",
   "execution_count": 12,
   "metadata": {},
   "outputs": [
    {
     "name": "stdout",
     "output_type": "stream",
     "text": [
      "Frase concatenada: Olá mundo ! Esta é uma frase\n"
     ]
    }
   ],
   "source": [
    "# Exercicio 12. Concatenar todos os elementos de uma lista de strings\n",
    "palavras = ['Olá', 'mundo', '!', 'Esta', 'é', 'uma', 'frase']\n",
    "frase = reduce(lambda x, y: x + ' ' + y, palavras)\n",
    "print(\"Frase concatenada:\", frase)"
   ]
  },
  {
   "cell_type": "markdown",
   "metadata": {},
   "source": [
    "## Funções Recursivas:\n",
    "\n",
    "13. Escreva uma função recursiva para calcular o n-ésimo termo da sequência de Fibonacci.\n",
    "\n",
    "14. Escreva uma função recursiva para inverter uma string."
   ]
  },
  {
   "cell_type": "markdown",
   "metadata": {},
   "source": [
    "\n",
    "A sequência de Fibonacci é uma sequência de números inteiros onde cada número é a soma dos dois anteriores. Formalmente, a sequência é definida recursivamente pelas seguintes condições:\n",
    "\n",
    "$F(0)=0$\n",
    "\n",
    "$F(1)=1$\n",
    "\n",
    "$F(n)=F(n−1)+F(n−2)$ para $n>1$"
   ]
  },
  {
   "cell_type": "code",
   "execution_count": 13,
   "metadata": {},
   "outputs": [
    {
     "name": "stdout",
     "output_type": "stream",
     "text": [
      "10º termo da sequência de Fibonacci: 55\n"
     ]
    }
   ],
   "source": [
    "# Exercicio 13\n",
    "# Função recursiva para calcular o n-ésimo termo da sequência de Fibonacci\n",
    "def fibonacci(n):\n",
    "    if n <= 1:\n",
    "        return n\n",
    "    else:\n",
    "        return fibonacci(n - 1) + fibonacci(n - 2)\n",
    "\n",
    "# Exemplo de uso\n",
    "print(\"10º termo da sequência de Fibonacci:\", fibonacci(10))"
   ]
  },
  {
   "cell_type": "code",
   "execution_count": 14,
   "metadata": {},
   "outputs": [
    {
     "name": "stdout",
     "output_type": "stream",
     "text": [
      "String invertida de 'python': nohtyp\n"
     ]
    }
   ],
   "source": [
    "# 14. Função recursiva para inverter uma string\n",
    "def inverter_string(s):\n",
    "    if len(s) <= 1:\n",
    "        return s\n",
    "    else:\n",
    "        return inverter_string(s[1:]) + s[0]\n",
    "\n",
    "# Exemplo de uso\n",
    "print(\"String invertida de 'python':\", inverter_string('python'))"
   ]
  },
  {
   "cell_type": "markdown",
   "metadata": {},
   "source": []
  }
 ],
 "metadata": {
  "kernelspec": {
   "display_name": "Python 3 (ipykernel)",
   "language": "python",
   "name": "python3"
  },
  "language_info": {
   "codemirror_mode": {
    "name": "ipython",
    "version": 3
   },
   "file_extension": ".py",
   "mimetype": "text/x-python",
   "name": "python",
   "nbconvert_exporter": "python",
   "pygments_lexer": "ipython3",
   "version": "3.11.2"
  },
  "vscode": {
   "interpreter": {
    "hash": "c56527485b7c9dd36c8c8808345694ae9d0a642c0f00dfb6356f9a65494ceb50"
   }
  }
 },
 "nbformat": 4,
 "nbformat_minor": 1
}
