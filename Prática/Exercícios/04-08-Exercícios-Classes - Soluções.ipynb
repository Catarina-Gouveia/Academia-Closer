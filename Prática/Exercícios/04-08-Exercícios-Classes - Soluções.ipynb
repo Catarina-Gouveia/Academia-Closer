{
 "cells": [
  {
   "cell_type": "markdown",
   "metadata": {},
   "source": [
    "<div>\n",
    "    <img src=\"img/AcademiaCloser.png\">\n",
    "</div>"
   ]
  },
  {
   "cell_type": "markdown",
   "metadata": {},
   "source": [
    "## **Exercícios - Classes** \n",
    "\n",
    "Nota: Este ficheiro contém exercícios sobre classes, objetos, métodos e hierarquia."
   ]
  },
  {
   "cell_type": "markdown",
   "metadata": {},
   "source": [
    "### **Exercício 1** \n",
    "1. Crie um objeto da classe foguete, abaixo, chamado Fog1 nas coordenadas (10, 8).\n",
    "2. Imprima as coordenadas do foguete.\n",
    "3. Mova o foguete - aumentando 2 unidades no eixo x e diminuindo 1 unidade no eixo y.\n",
    "4. Imprima novamente as coordenadas do foguete. Utilize os métodos da classe para realizar o exercício."
   ]
  },
  {
   "cell_type": "code",
   "execution_count": 1,
   "metadata": {},
   "outputs": [],
   "source": [
    "class Foguete():\n",
    "     \n",
    "    def __init__(self, x=0, y=0):\n",
    "        self.x = x\n",
    "        self.y = y\n",
    "        \n",
    "    def mover_foguete(self, incremento_x=0, incremento_y=1):\n",
    "        self.x += incremento_x\n",
    "        self.y += incremento_y\n",
    "        \n",
    "    def imprimir_foguete(self):\n",
    "        print(self.x, self.y)"
   ]
  },
  {
   "cell_type": "code",
   "execution_count": 2,
   "metadata": {},
   "outputs": [
    {
     "name": "stdout",
     "output_type": "stream",
     "text": [
      "10 8\n",
      "12 7\n"
     ]
    }
   ],
   "source": [
    "# Resolve os exercícios aqui\n",
    "# Criar um objeto da classe Foguete nas coordenadas (10, 8)\n",
    "Fog1 = Foguete(10, 8)\n",
    "\n",
    "# Imprimir as coordenadas do foguete\n",
    "Fog1.imprimir_foguete()\n",
    "\n",
    "# Mover o foguete\n",
    "Fog1.mover_foguete(2, -1)\n",
    "\n",
    "# Imprimir novamente as coordenadas do foguete\n",
    "Fog1.imprimir_foguete()"
   ]
  },
  {
   "cell_type": "markdown",
   "metadata": {},
   "source": [
    "### **Exercício 2**\n",
    "\n",
    "Crie uma classe para uma conta bancária simples.\n",
    "\n",
    "Crie uma classe em Python chamada `ContaBancaria` que tenha os seguintes atributos e métodos:\n",
    "\n",
    "Atributos:\n",
    "- `numero_conta` (número único da conta)\n",
    "- `titular_conta` (nome do titular da conta)\n",
    "- `saldo` (saldo inicial)\n",
    "\n",
    "Métodos:\n",
    "- `deposito(valor)`: adiciona o valor fornecido ao saldo da conta.\n",
    "- `levantamento(valor)`: subtrai o valor levantado ao saldo da conta. Se o valor for maior do que o saldo, deve ser impresso \"Fundos insuficientes!\".\n",
    "- `obter_saldo()`: Retorna o saldo atual.\n",
    "- `mostrar_informacoes_conta()`: Exibe o número da conta, o nome do titular da conta e o saldo atual.\n",
    "\n",
    "Lembre-se de testar a classe para garantir que tudo funcione corretamente."
   ]
  },
  {
   "cell_type": "code",
   "execution_count": 3,
   "metadata": {},
   "outputs": [],
   "source": [
    "# Resolva o exercício aqui\n",
    "class ContaBancaria:\n",
    "    def __init__(self, numero_conta, titular_conta, saldo):\n",
    "        self.numero_conta = numero_conta\n",
    "        self.titular_conta = titular_conta\n",
    "        self.saldo = saldo\n",
    "\n",
    "    def deposito(self, valor):\n",
    "        self.saldo += valor\n",
    "\n",
    "    def levantamento(self, valor):\n",
    "        if valor > self.saldo:\n",
    "            print(\"Fundos insuficientes!\")\n",
    "        else:\n",
    "            self.saldo -= valor\n",
    "\n",
    "    def obter_saldo(self):\n",
    "        return self.saldo\n",
    "\n",
    "    def mostrar_informacoes_conta(self):\n",
    "        print(f\"Número da Conta: {self.numero_conta}\")\n",
    "        print(f\"Titular da Conta: {self.titular_conta}\")\n",
    "        print(f\"Saldo Atual: {self.saldo}\")"
   ]
  },
  {
   "cell_type": "code",
   "execution_count": 4,
   "metadata": {},
   "outputs": [
    {
     "name": "stdout",
     "output_type": "stream",
     "text": [
      "Número da Conta: 123456\n",
      "Titular da Conta: João\n",
      "Saldo Atual: 1000\n",
      "Saldo atual: 1300\n"
     ]
    }
   ],
   "source": [
    "# Crie um objeto de ContaBancaria\n",
    "minha_conta = ContaBancaria(\"123456\", \"João\", 1000)\n",
    "\n",
    "# Mostre as informações da conta\n",
    "minha_conta.mostrar_informacoes_conta()\n",
    "\n",
    "# Deposite 500 na conta\n",
    "minha_conta.deposito(500)\n",
    "\n",
    "# Levante 200 da conta\n",
    "minha_conta.levantamento(200)\n",
    "\n",
    "# Obtenha o saldo atual\n",
    "saldo_atual = minha_conta.obter_saldo()\n",
    "print(\"Saldo atual:\", saldo_atual)"
   ]
  },
  {
   "cell_type": "markdown",
   "metadata": {},
   "source": [
    "### **Exercício 3**\n",
    "Considere a próxima classe:"
   ]
  },
  {
   "cell_type": "code",
   "execution_count": 5,
   "metadata": {
    "collapsed": true
   },
   "outputs": [],
   "source": [
    "class ClienteBancario:\n",
    "    def __init__(self, primeiro_nome, ultimo_nome, idade, endereco):\n",
    "        self.primeiro_nome = primeiro_nome\n",
    "        self.ultimo_nome = ultimo_nome\n",
    "        self.idade = idade\n",
    "        self.endereco = endereco\n",
    "\n",
    "    def saudacao(self):\n",
    "        return f\"Bem-vindo, {self.primeiro_nome} {self.ultimo_nome}.\"\n",
    "\n",
    "    def aniversario(self):\n",
    "        self.idade += 1\n",
    "        return f\"Hoje é o seu aniversário! Feliz aniversário, {self.primeiro_nome}\"\n",
    "\n",
    "    def alterar_endereco(self, novo_endereco):\n",
    "        self.endereco = novo_endereco"
   ]
  },
  {
   "cell_type": "code",
   "execution_count": 6,
   "metadata": {},
   "outputs": [],
   "source": [
    "# Crie um objeto cliente do banco\n",
    "cliente_manuel = ClienteBancario(\"Manuel\", \"Silva\", 25, \"Porto\")"
   ]
  },
  {
   "cell_type": "markdown",
   "metadata": {},
   "source": [
    "Exercícios:\n",
    "1. Altere o endereço de \"Porto\" para \"Lisboa\" e imprima o endereço atualizado.\n",
    "2. Celebre o aniversário de Manuel e imprima sua idade atualizada.\n",
    "3. Altere a idade de Manuel para 30 e imprima sua idade atualizada."
   ]
  },
  {
   "cell_type": "code",
   "execution_count": 7,
   "metadata": {},
   "outputs": [
    {
     "name": "stdout",
     "output_type": "stream",
     "text": [
      "Informações cliente: Manuel Silva 25 Porto\n",
      "Novo endereço: Lisboa\n",
      "Hoje é o seu aniversário! Feliz aniversário, Manuel\n",
      "Idade atualizada: 26\n"
     ]
    }
   ],
   "source": [
    "# Resolva aqui\n",
    "# Imprime o cliente\n",
    "print(\"Informações cliente:\", \n",
    "      cliente_manuel.primeiro_nome, \n",
    "      cliente_manuel.ultimo_nome, \n",
    "      cliente_manuel.idade, \n",
    "      cliente_manuel.endereco)\n",
    "\n",
    "# Altera o endereço de \"Porto\" para \"Lisboa\"\n",
    "cliente_manuel.alterar_endereco(\"Lisboa\")\n",
    "\n",
    "# Imprime o endereço atualizado\n",
    "print(\"Novo endereço:\", cliente_manuel.endereco)\n",
    "\n",
    "# Celebra o aniversário de Manuel\n",
    "mensagem_aniversario = cliente_manuel.aniversario()\n",
    "\n",
    "# Imprime a mensagem de aniversário e a idade atualizada\n",
    "print(mensagem_aniversario)\n",
    "print(\"Idade atualizada:\", cliente_manuel.idade)"
   ]
  },
  {
   "cell_type": "markdown",
   "metadata": {},
   "source": [
    "### **Exercício 4 - Hierarquia**\n",
    "Considere a Classe `ClienteBancario` criada anteriormente.\n",
    "\n",
    "1. Defina uma classe `ContaClienteBancario` herdada de `ClienteBancario` com atributos adicionais `numero_conta` e `saldo`.\n",
    "\n",
    "   Implemente os Métodos:\n",
    "   \n",
    "   - `__init__(self, primeiro_nome, ultimo_nome, idade, numero_conta, saldo)`, que inicializa uma conta bancária com um nome, idade, número da conta e saldo.\n",
    "   - `deposito(self, valor)`, que adiciona o valor depositado ao saldo da conta.\n",
    "   - `levantamento(self, valor)`, que subtrai o valor levantado do saldo da conta. Se o valor for maior do que o saldo, imprima \"saldo insuficiente!\".\n",
    "   - `exibir_informacoes_conta(self)`, que retorna uma string formatada com o nome do cliente, número da conta, saldo e uma saudação. Por exemplo, ao chamar este método, a saída pode ser algo como: \"Olá, [nome do cliente], seu número de conta é [número da conta] e tem disponível [saldo disponível] disponível na sua conta neste momento.\"\n",
    "\n",
    "2. Crie objetos desta classe e aplique alguns dos métodos, incluindo chamadas de métodos da superclasse (`ClienteBancario`)."
   ]
  },
  {
   "cell_type": "code",
   "execution_count": 8,
   "metadata": {},
   "outputs": [],
   "source": [
    "# Resolva o exercício aqui\n",
    "class ContaClienteBancario(ClienteBancario):\n",
    "    def __init__(self, primeiro_nome, ultimo_nome, idade, numero_conta, saldo):\n",
    "        super().__init__(primeiro_nome, ultimo_nome, idade, None)\n",
    "        self.numero_conta = numero_conta\n",
    "        self.saldo = saldo\n",
    "\n",
    "    def deposito(self, valor):\n",
    "        self.saldo += valor\n",
    "\n",
    "    def levantamento(self, valor):\n",
    "        if valor > self.saldo:\n",
    "            print(\"Saldo insuficiente!\")\n",
    "        else:\n",
    "            self.saldo -= valor\n",
    "\n",
    "    def exibir_informacoes_conta(self):\n",
    "        saudacao_cliente = super().saudacao()\n",
    "        return f\"{saudacao_cliente} Seu número de conta é {self.numero_conta} e tem disponível ${self.saldo} na sua conta neste momento.\""
   ]
  },
  {
   "cell_type": "code",
   "execution_count": 9,
   "metadata": {},
   "outputs": [
    {
     "name": "stdout",
     "output_type": "stream",
     "text": [
      "Bem-vindo, Manuel Silva. Seu número de conta é 123456 e tem disponível $1300 na sua conta neste momento.\n"
     ]
    }
   ],
   "source": [
    "# Crie um objeto de ContaClienteBancario\n",
    "minha_conta_bancaria = ContaClienteBancario(\"Manuel\", \"Silva\", 25, \"123456\", 1000)\n",
    "\n",
    "# Faça um depósito de 500 na conta\n",
    "minha_conta_bancaria.deposito(500)\n",
    "\n",
    "# Levante 200 da conta\n",
    "minha_conta_bancaria.levantamento(200)\n",
    "\n",
    "# Exiba as informações da conta\n",
    "informacoes_conta = minha_conta_bancaria.exibir_informacoes_conta()\n",
    "print(informacoes_conta)"
   ]
  },
  {
   "cell_type": "markdown",
   "metadata": {},
   "source": []
  }
 ],
 "metadata": {
  "kernelspec": {
   "display_name": "Python 3 (ipykernel)",
   "language": "python",
   "name": "python3"
  },
  "language_info": {
   "codemirror_mode": {
    "name": "ipython",
    "version": 3
   },
   "file_extension": ".py",
   "mimetype": "text/x-python",
   "name": "python",
   "nbconvert_exporter": "python",
   "pygments_lexer": "ipython3",
   "version": "3.11.2"
  },
  "vscode": {
   "interpreter": {
    "hash": "c56527485b7c9dd36c8c8808345694ae9d0a642c0f00dfb6356f9a65494ceb50"
   }
  }
 },
 "nbformat": 4,
 "nbformat_minor": 1
}
